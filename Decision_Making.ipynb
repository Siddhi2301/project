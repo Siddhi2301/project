{
 "cells": [
  {
   "cell_type": "code",
   "execution_count": 1,
   "id": "d21d13ca-d1f2-49cc-80b2-4b8240138453",
   "metadata": {},
   "outputs": [
    {
     "name": "stdin",
     "output_type": "stream",
     "text": [
      "Enter the number  40\n"
     ]
    }
   ],
   "source": [
    "# check if the number is greater than 50\n",
    "\n",
    "num = int(input('Enter the number '))\n",
    "\n",
    "if num > 50:\n",
    "    print('OK')"
   ]
  },
  {
   "cell_type": "code",
   "execution_count": 2,
   "id": "334137b9-5cd1-435b-8298-18e5d3769a5c",
   "metadata": {},
   "outputs": [
    {
     "name": "stdin",
     "output_type": "stream",
     "text": [
      "Enter the number  10\n"
     ]
    },
    {
     "name": "stdout",
     "output_type": "stream",
     "text": [
      "Positive\n",
      "ok\n"
     ]
    }
   ],
   "source": [
    "# positive or negative\n",
    "\n",
    "num = int(input('Enter the number '))\n",
    "\n",
    "if num > 0:\n",
    "    print('Positive')\n",
    "    print('ok')\n",
    "else:\n",
    "    print('negative')\n",
    "    print('Goodbye!!!')"
   ]
  },
  {
   "cell_type": "code",
   "execution_count": 3,
   "id": "41ea50cc-18da-4b5d-a0aa-a10fc0677037",
   "metadata": {},
   "outputs": [
    {
     "name": "stdin",
     "output_type": "stream",
     "text": [
      "Enter the number  -20\n"
     ]
    },
    {
     "name": "stdout",
     "output_type": "stream",
     "text": [
      "Negative\n"
     ]
    }
   ],
   "source": [
    "num = int(input('Enter the number '))\n",
    "\n",
    "if num > 0:\n",
    "    print('positive')\n",
    "elif num == 0:\n",
    "    print('Zero')\n",
    "else:\n",
    "    print('Negative')\n",
    "    "
   ]
  },
  {
   "cell_type": "code",
   "execution_count": 4,
   "id": "1e6b24b2-df03-4280-91d0-33e7331e485e",
   "metadata": {},
   "outputs": [
    {
     "name": "stdin",
     "output_type": "stream",
     "text": [
      "Enter the number  3\n"
     ]
    },
    {
     "name": "stdout",
     "output_type": "stream",
     "text": [
      "ODD\n"
     ]
    }
   ],
   "source": [
    "# check if the number is odd or even\n",
    "\n",
    "num = int(input('Enter the number '))\n",
    "\n",
    "if num % 2 == 0:\n",
    "    print('EVEN')\n",
    "else:\n",
    "    print('ODD')"
   ]
  },
  {
   "cell_type": "code",
   "execution_count": 5,
   "id": "82c3596a-1264-4a1d-84aa-3b8388b25a0e",
   "metadata": {},
   "outputs": [
    {
     "data": {
      "text/plain": [
       "1"
      ]
     },
     "execution_count": 5,
     "metadata": {},
     "output_type": "execute_result"
    }
   ],
   "source": [
    "int(True)"
   ]
  },
  {
   "cell_type": "code",
   "execution_count": 6,
   "id": "26d39b09-ae77-4800-83d7-1346fb631411",
   "metadata": {},
   "outputs": [
    {
     "data": {
      "text/plain": [
       "0"
      ]
     },
     "execution_count": 6,
     "metadata": {},
     "output_type": "execute_result"
    }
   ],
   "source": [
    "int(False)"
   ]
  },
  {
   "cell_type": "code",
   "execution_count": 7,
   "id": "0550e037-52f9-43e8-9b1b-83def602556b",
   "metadata": {},
   "outputs": [
    {
     "data": {
      "text/plain": [
       "2"
      ]
     },
     "execution_count": 7,
     "metadata": {},
     "output_type": "execute_result"
    }
   ],
   "source": [
    "True + True - False"
   ]
  },
  {
   "cell_type": "code",
   "execution_count": 8,
   "id": "a790fd62-4513-45a7-be63-26fd670081a8",
   "metadata": {},
   "outputs": [
    {
     "name": "stdout",
     "output_type": "stream",
     "text": [
      "!!!!!\n"
     ]
    }
   ],
   "source": [
    "a = 12\n",
    "\n",
    "if a:\n",
    "    print('!!!!!')"
   ]
  },
  {
   "cell_type": "code",
   "execution_count": 9,
   "id": "7d246769-9418-47bc-9f21-88af3ac0dba9",
   "metadata": {},
   "outputs": [
    {
     "name": "stdin",
     "output_type": "stream",
     "text": [
      "Enter the number  53\n"
     ]
    },
    {
     "name": "stdout",
     "output_type": "stream",
     "text": [
      "Correct\n"
     ]
    }
   ],
   "source": [
    "# check if the number is between 50 and 150\n",
    "num = int(input('Enter the number '))\n",
    "\n",
    "if num > 50:\n",
    "    if num < 150:\n",
    "        print('Correct')\n",
    "    else:\n",
    "        print('greater than 150')\n",
    "else:\n",
    "    print('Incorrect')"
   ]
  },
  {
   "cell_type": "code",
   "execution_count": 10,
   "id": "95ac64ec-0e45-4772-a4ea-45b82d3d4fd9",
   "metadata": {},
   "outputs": [
    {
     "name": "stdin",
     "output_type": "stream",
     "text": [
      "Enter the number  56\n"
     ]
    },
    {
     "name": "stdout",
     "output_type": "stream",
     "text": [
      "Correct\n"
     ]
    }
   ],
   "source": [
    "num = int(input('Enter the number '))\n",
    "\n",
    "if num > 50 and num < 150:\n",
    "    print('Correct')\n",
    "else:\n",
    "    print('Incorrect')"
   ]
  },
  {
   "cell_type": "code",
   "execution_count": 11,
   "id": "b240faf1-e145-4e65-97a6-6c2db05cff21",
   "metadata": {},
   "outputs": [
    {
     "name": "stdin",
     "output_type": "stream",
     "text": [
      "Enter the purchase cost  2600\n",
      "Enter the selling cost  5600\n"
     ]
    },
    {
     "name": "stdout",
     "output_type": "stream",
     "text": [
      "Profit: 3000\n"
     ]
    }
   ],
   "source": [
    "# read selling cost and purchase cost\n",
    "# find profit or loss and how much ?\n",
    "\n",
    "purchase_cost = int(input('Enter the purchase cost '))\n",
    "selling_cost = int(input('Enter the selling cost '))\n",
    "\n",
    "if selling_cost > purchase_cost:\n",
    "    print('Profit:', selling_cost - purchase_cost)\n",
    "else:\n",
    "    print('Loss:', purchase_cost - selling_cost)"
   ]
  },
  {
   "cell_type": "code",
   "execution_count": 12,
   "id": "22868260-65dd-46a3-8042-4fe4b1965555",
   "metadata": {},
   "outputs": [
    {
     "name": "stdin",
     "output_type": "stream",
     "text": [
      "Enter the 1st number  10\n",
      "Enter the 2nd number  20\n",
      "Enter the 3rd number  30\n"
     ]
    },
    {
     "name": "stdout",
     "output_type": "stream",
     "text": [
      "Largest is num3 30\n"
     ]
    }
   ],
   "source": [
    "# find the largest of 3 numbers\n",
    "# 'and', 'or' not allowed\n",
    "\n",
    "num1 = int(input('Enter the 1st number '))\n",
    "num2 = int(input('Enter the 2nd number '))\n",
    "num3 = int(input('Enter the 3rd number '))\n",
    "\n",
    "if num1 > num2:\n",
    "    if num1 > num3:\n",
    "        print('Largest is num1', num1)\n",
    "    else:\n",
    "        print('Largest is num3', num3)\n",
    "else:\n",
    "    if num2 > num3:\n",
    "        print('Largest is num2', num2)\n",
    "    else:\n",
    "        print('Largest is num3', num3)"
   ]
  },
  {
   "cell_type": "code",
   "execution_count": 13,
   "id": "a735ba91-45cd-45d0-927d-a0f33d809409",
   "metadata": {},
   "outputs": [
    {
     "name": "stdin",
     "output_type": "stream",
     "text": [
      "Enter the year  2020\n"
     ]
    },
    {
     "name": "stdout",
     "output_type": "stream",
     "text": [
      "Leap Year\n"
     ]
    }
   ],
   "source": [
    "# 2020 => Leap Year\n",
    "# 2018 => Not leap\n",
    "# 2000 => leap\n",
    "# 1800 => not leap => century year\n",
    "\n",
    "year = int(input('Enter the year '))\n",
    "\n",
    "if year % 4 == 0:\n",
    "    if year % 100 == 0:\n",
    "        if year % 400 == 0:\n",
    "            print('Leap Century Year')\n",
    "        else:\n",
    "            print('Century but not leap')\n",
    "    else:\n",
    "        print('Leap Year')\n",
    "else:\n",
    "    print('Not Leap')"
   ]
  },
  {
   "cell_type": "code",
   "execution_count": 14,
   "id": "4d323345-510e-427e-afb4-e6944c1da541",
   "metadata": {},
   "outputs": [
    {
     "name": "stdin",
     "output_type": "stream",
     "text": [
      "Enter the marks of physics  65\n",
      "Enter the marks of chemistry  45\n",
      "Enter the marks of biology  65\n",
      "Enter the marks of maths  94\n",
      "Enter the marks of computer  79\n"
     ]
    },
    {
     "name": "stdout",
     "output_type": "stream",
     "text": [
      "Grade D\n"
     ]
    }
   ],
   "source": [
    "'''Write a Python program to input marks of five subjects\n",
    "Physics, Chemistry,\n",
    "Biology, Mathematics and Computer. Calculate percentage \n",
    "and grade\n",
    "according to following:\n",
    "Percentage >= 90% : Grade A\n",
    "Percentage >= 80% : Grade B\n",
    "Percentage >= 70% : Grade C\n",
    "Percentage >= 60% : Grade D\n",
    "Percentage >= 40% : Grade E\n",
    "Percentage < 40% : Grade F\n",
    "'''\n",
    "\n",
    "phys = float(input('Enter the marks of physics '))\n",
    "chem = float(input('Enter the marks of chemistry '))\n",
    "bio = float(input('Enter the marks of biology '))\n",
    "maths = float(input('Enter the marks of maths '))\n",
    "comp = float(input('Enter the marks of computer '))\n",
    "\n",
    "perc = ((phys + chem + bio + maths + comp)/500) * 100\n",
    "\n",
    "if perc >= 90:\n",
    "    print('Grade A')\n",
    "elif perc >= 80:\n",
    "    print('Grade B')\n",
    "elif perc >= 70:\n",
    "    print('Grade C')\n",
    "elif perc >= 60:\n",
    "    print('Grade D')\n",
    "elif perc >= 40:\n",
    "    print('Grade E')\n",
    "else:\n",
    "    print('Fail')"
   ]
  },
  {
   "cell_type": "code",
   "execution_count": 15,
   "id": "5a892f9c-3dce-4fc3-94ce-eb8361e62b79",
   "metadata": {},
   "outputs": [
    {
     "name": "stdin",
     "output_type": "stream",
     "text": [
      "Enter the number  3\n"
     ]
    },
    {
     "name": "stdout",
     "output_type": "stream",
     "text": [
      "MENU\n",
      "1.Square\n",
      "2.Cube\n",
      "3.Check +ve or -ve\n"
     ]
    },
    {
     "name": "stdin",
     "output_type": "stream",
     "text": [
      "Enter your choice  2\n"
     ]
    },
    {
     "name": "stdout",
     "output_type": "stream",
     "text": [
      "Cube is 27\n"
     ]
    }
   ],
   "source": [
    "# Menu driven\n",
    "\n",
    "'''\n",
    "take a number and based on the choice perform\n",
    "1.square, 2.cube and 3. check positive or negative\n",
    "'''\n",
    "\n",
    "num = int(input('Enter the number '))\n",
    "\n",
    "print(\"MENU\\n1.Square\\n2.Cube\\n3.Check +ve or -ve\")\n",
    "\n",
    "choice = int(input('Enter your choice '))\n",
    "\n",
    "if choice == 1:\n",
    "    print('Square is', num * num)\n",
    "elif choice == 2:\n",
    "    print('Cube is', num ** 3)\n",
    "elif choice == 3:\n",
    "    if num > 0:\n",
    "        print('Positive')\n",
    "    else:\n",
    "        print('Negative')\n",
    "else:\n",
    "    print(\"OOPS! you must've forgotten ur sepcs or brain :)\")"
   ]
  },
  {
   "cell_type": "code",
   "execution_count": 16,
   "id": "5099abdd-66b5-4910-9224-c9a984ef74e4",
   "metadata": {},
   "outputs": [],
   "source": [
    "num = 34\n",
    "\n",
    "if num > 20:\n",
    "    pass"
   ]
  },
  {
   "cell_type": "code",
   "execution_count": 18,
   "id": "e5aacd09-f0c8-4da1-b709-517fdc5b5e90",
   "metadata": {},
   "outputs": [
    {
     "name": "stdin",
     "output_type": "stream",
     "text": [
      "Enter the first number:  3\n",
      "Enter the second number:  5\n"
     ]
    },
    {
     "name": "stdout",
     "output_type": "stream",
     "text": [
      "MENU\n",
      "1.Addition\n",
      "2.Floor division\n",
      "3.Check the largest\n"
     ]
    },
    {
     "name": "stdin",
     "output_type": "stream",
     "text": [
      "Enter your choice  2\n"
     ]
    },
    {
     "name": "stdout",
     "output_type": "stream",
     "text": [
      "Floor Division is: 0\n"
     ]
    }
   ],
   "source": [
    "'''\n",
    "take 2 numbers and based on the choice perform\n",
    "1.Addition, 2.floor div and 3. check which one is largest\n",
    "'''\n",
    "num1 = int(input(\"Enter the first number: \"))\n",
    "num2 = int(input(\"Enter the second number: \"))\n",
    "\n",
    "print(\"MENU\\n1.Addition\\n2.Floor division\\n3.Check the largest\")\n",
    "\n",
    "choice = int(input('Enter your choice '))\n",
    "\n",
    "if choice == 1:\n",
    "    print('Addition is:', num1 + num2)\n",
    "elif choice == 2:\n",
    "    print('Floor Division is:', num1 // num2)\n",
    "elif choice == 3:\n",
    "    if num1 > num2:\n",
    "        print('Number 1 is greater')\n",
    "    else:\n",
    "        print('Number 2 is greater')\n",
    "else:\n",
    "    print(\"OOPS! you must've forgotten ur sepcs or brain :)\")"
   ]
  },
  {
   "cell_type": "code",
   "execution_count": null,
   "id": "505afab5-5313-4e3a-b93e-3b66a9b72660",
   "metadata": {},
   "outputs": [],
   "source": []
  }
 ],
 "metadata": {
  "kernelspec": {
   "display_name": "Python 3 (ipykernel)",
   "language": "python",
   "name": "python3"
  },
  "language_info": {
   "codemirror_mode": {
    "name": "ipython",
    "version": 3
   },
   "file_extension": ".py",
   "mimetype": "text/x-python",
   "name": "python",
   "nbconvert_exporter": "python",
   "pygments_lexer": "ipython3",
   "version": "3.11.7"
  }
 },
 "nbformat": 4,
 "nbformat_minor": 5
}
