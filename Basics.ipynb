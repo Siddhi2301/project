{
 "cells": [
  {
   "cell_type": "code",
   "execution_count": 1,
   "id": "b8a2bc32-0ed1-448a-bc9f-1eb30fb0b46f",
   "metadata": {},
   "outputs": [
    {
     "name": "stdout",
     "output_type": "stream",
     "text": [
      "HELLO WORLD\n"
     ]
    }
   ],
   "source": [
    "print(\"HELLO WORLD\")"
   ]
  },
  {
   "cell_type": "code",
   "execution_count": 2,
   "id": "72771754-59fa-4004-b18d-9416c94438f3",
   "metadata": {},
   "outputs": [],
   "source": [
    "num = 10"
   ]
  },
  {
   "cell_type": "code",
   "execution_count": 3,
   "id": "7a859afc-983a-4514-92d2-c5af7a2c4ba0",
   "metadata": {},
   "outputs": [
    {
     "name": "stdout",
     "output_type": "stream",
     "text": [
      "10\n"
     ]
    }
   ],
   "source": [
    "print(num)"
   ]
  },
  {
   "cell_type": "code",
   "execution_count": 4,
   "id": "0e13eaec-00c6-49b3-b975-22553ff3fc1f",
   "metadata": {},
   "outputs": [
    {
     "data": {
      "text/plain": [
       "10"
      ]
     },
     "execution_count": 4,
     "metadata": {},
     "output_type": "execute_result"
    }
   ],
   "source": [
    "num"
   ]
  },
  {
   "cell_type": "code",
   "execution_count": 5,
   "id": "f97b41ad-bebc-4c19-8ea3-301ea0944c3c",
   "metadata": {},
   "outputs": [
    {
     "name": "stdout",
     "output_type": "stream",
     "text": [
      "20\n"
     ]
    }
   ],
   "source": [
    "num1 = 20\n",
    "print(num1)"
   ]
  },
  {
   "cell_type": "code",
   "execution_count": 6,
   "id": "d209f654-90d4-4a66-9f13-a18d3387447e",
   "metadata": {},
   "outputs": [],
   "source": [
    "num = 1"
   ]
  },
  {
   "cell_type": "code",
   "execution_count": 7,
   "id": "471905be-6762-4628-be3e-412147b95337",
   "metadata": {},
   "outputs": [
    {
     "name": "stdout",
     "output_type": "stream",
     "text": [
      "1\n"
     ]
    }
   ],
   "source": [
    "print(num)"
   ]
  },
  {
   "cell_type": "code",
   "execution_count": 8,
   "id": "10ba3a3d-5583-48e6-b961-f49382593ccd",
   "metadata": {},
   "outputs": [],
   "source": [
    "rate_of_interest = 50"
   ]
  },
  {
   "cell_type": "code",
   "execution_count": 9,
   "id": "eab44444-f186-4ec4-a9f3-5a9acdce0966",
   "metadata": {},
   "outputs": [
    {
     "data": {
      "text/plain": [
       "50"
      ]
     },
     "execution_count": 9,
     "metadata": {},
     "output_type": "execute_result"
    }
   ],
   "source": [
    "rate_of_interest "
   ]
  },
  {
   "cell_type": "code",
   "execution_count": 10,
   "id": "888ed17a-7c97-4c12-a1cd-595ec8198928",
   "metadata": {},
   "outputs": [],
   "source": [
    "num3 = 'Siddhi'"
   ]
  },
  {
   "cell_type": "code",
   "execution_count": 11,
   "id": "a37f0571-1a83-4956-8a02-4e5d95457406",
   "metadata": {},
   "outputs": [
    {
     "data": {
      "text/plain": [
       "'Siddhi'"
      ]
     },
     "execution_count": 11,
     "metadata": {},
     "output_type": "execute_result"
    }
   ],
   "source": [
    "num3"
   ]
  },
  {
   "cell_type": "code",
   "execution_count": 12,
   "id": "6e5c8ad8-8ab4-4434-947d-073a1e02f1ae",
   "metadata": {},
   "outputs": [
    {
     "name": "stdout",
     "output_type": "stream",
     "text": [
      "Siddhi\n"
     ]
    }
   ],
   "source": [
    "print(num3)"
   ]
  },
  {
   "cell_type": "code",
   "execution_count": 13,
   "id": "4c45f66b-f0bf-486c-ad20-6aa74a0468ea",
   "metadata": {},
   "outputs": [],
   "source": [
    "num1 = 67\n",
    "num2 = 55.67\n",
    "num3 = 'Siddhi'"
   ]
  },
  {
   "cell_type": "code",
   "execution_count": 14,
   "id": "ac1e9dff-1e4e-4e9a-9280-fea11174c980",
   "metadata": {},
   "outputs": [
    {
     "data": {
      "text/plain": [
       "int"
      ]
     },
     "execution_count": 14,
     "metadata": {},
     "output_type": "execute_result"
    }
   ],
   "source": [
    "type(num1)"
   ]
  },
  {
   "cell_type": "code",
   "execution_count": 15,
   "id": "c6300388-7d18-4f35-987e-49b3cc42c8ab",
   "metadata": {},
   "outputs": [
    {
     "data": {
      "text/plain": [
       "float"
      ]
     },
     "execution_count": 15,
     "metadata": {},
     "output_type": "execute_result"
    }
   ],
   "source": [
    "type(num2)"
   ]
  },
  {
   "cell_type": "code",
   "execution_count": 16,
   "id": "0486aa1c-d554-4f2b-bb10-34cdfd3e7be7",
   "metadata": {},
   "outputs": [
    {
     "data": {
      "text/plain": [
       "str"
      ]
     },
     "execution_count": 16,
     "metadata": {},
     "output_type": "execute_result"
    }
   ],
   "source": [
    "type(num3)\n"
   ]
  },
  {
   "cell_type": "code",
   "execution_count": 17,
   "id": "486e0b5e-666d-439c-b645-7ca660b85e74",
   "metadata": {},
   "outputs": [],
   "source": [
    "pass1 = 67.32  # pass => keyword"
   ]
  },
  {
   "cell_type": "code",
   "execution_count": 18,
   "id": "54647ce2-5400-4c9d-9d5c-1adf5cb475f9",
   "metadata": {},
   "outputs": [],
   "source": [
    "num = 35\n"
   ]
  },
  {
   "cell_type": "code",
   "execution_count": 19,
   "id": "bdd8c65c-0f22-4370-b23f-5ee244591c17",
   "metadata": {},
   "outputs": [
    {
     "data": {
      "text/plain": [
       "50"
      ]
     },
     "execution_count": 19,
     "metadata": {},
     "output_type": "execute_result"
    }
   ],
   "source": [
    "num + 15"
   ]
  },
  {
   "cell_type": "code",
   "execution_count": 20,
   "id": "188d7694-f9e2-40b3-bbd9-bce0a483c83e",
   "metadata": {},
   "outputs": [
    {
     "data": {
      "text/plain": [
       "35"
      ]
     },
     "execution_count": 20,
     "metadata": {},
     "output_type": "execute_result"
    }
   ],
   "source": [
    "num"
   ]
  },
  {
   "cell_type": "code",
   "execution_count": 21,
   "id": "89530301-b79a-4027-8b9b-8dc30a44fbdf",
   "metadata": {},
   "outputs": [
    {
     "name": "stdout",
     "output_type": "stream",
     "text": [
      "50\n"
     ]
    }
   ],
   "source": [
    "result = num + 15\n",
    "print(result)"
   ]
  },
  {
   "cell_type": "code",
   "execution_count": 22,
   "id": "979c17f9-0e36-4b27-9183-21fc52307b9d",
   "metadata": {},
   "outputs": [],
   "source": [
    "num = 32531982184665241346462464521821685 ** 48"
   ]
  },
  {
   "cell_type": "code",
   "execution_count": 23,
   "id": "83649713-09b0-4c64-a01e-f6fa4ea9a084",
   "metadata": {},
   "outputs": [
    {
     "data": {
      "text/plain": [
       "3898569118187186870850747583818386341006494596083242982512130108942485789249959452302122728329967457515574468976931468638245153537401224040299784105378042104821826044152704136458040182853915406356735552462021681595816926081157999349573015360546398369715207265512210483701921545207746937669707599515659637107415876140713506400484324143610934365693178712609760098311328344394828402051935415550579598655818114017903262386336415348307001916594596824492524086056912420389440061660217773228982777952985481449018273752080308835855895743989914692310577372092658243662406210384079552627076005065706539442777247377229210829309306283009878489794815770245132491927733326125727011947473172890162596544544647133674225880888301151688983347455931977929608505777379373826066711435848680432089338033078745057791749616143290654611586306968366437101302338849658330580787286108463034159327268535982565326295735692914861790909753690315210538908035550795345953042719224050950085714249118978695174565289066007141813990891599733676485343612642373336845831063648871451674902799492060081023825381506014017434455251950409480189701384899948148283641492445096429172455363418217269737595237094582612432825549372802462531598804402321864824717236379003662913433570143785813896493982518570599073051303592674734692312339208796838710908773616627358877281929724339880954897047167918626504381479325905822155141507339586943586093354448072091400831202189541646173074100021760721626607958592550819286632204668221637032723459550748123568749278205222882620237499140712267215190189728516514660690558011535074252741556294738616419598259246937122925618594897430881014773973447518073953688144683837890625"
      ]
     },
     "execution_count": 23,
     "metadata": {},
     "output_type": "execute_result"
    }
   ],
   "source": [
    "num"
   ]
  },
  {
   "cell_type": "code",
   "execution_count": 24,
   "id": "1f85e3b3-157a-45b8-87f4-53365c7bd72a",
   "metadata": {},
   "outputs": [],
   "source": [
    "# float datatype"
   ]
  },
  {
   "cell_type": "code",
   "execution_count": 25,
   "id": "df7ab57b-4b4a-4e41-8aa0-c8c608776ea6",
   "metadata": {},
   "outputs": [],
   "source": [
    "num = 67.12"
   ]
  },
  {
   "cell_type": "code",
   "execution_count": 26,
   "id": "4f0495d0-f4e8-46de-8234-2795b1f3139e",
   "metadata": {},
   "outputs": [],
   "source": [
    "result = num * 11.22"
   ]
  },
  {
   "cell_type": "code",
   "execution_count": 27,
   "id": "3c3b21db-d5a2-4c4b-b284-ef561b0cb003",
   "metadata": {},
   "outputs": [
    {
     "data": {
      "text/plain": [
       "753.0864000000001"
      ]
     },
     "execution_count": 27,
     "metadata": {},
     "output_type": "execute_result"
    }
   ],
   "source": [
    "result\n"
   ]
  },
  {
   "cell_type": "code",
   "execution_count": 28,
   "id": "a2b79ca6-913e-4943-9865-6474f4afc1cd",
   "metadata": {},
   "outputs": [],
   "source": [
    "a = 18e4   # e4 => 10 ** 4"
   ]
  },
  {
   "cell_type": "code",
   "execution_count": 29,
   "id": "f695d0f2-256a-4309-bdf6-bb371a7355ca",
   "metadata": {},
   "outputs": [
    {
     "data": {
      "text/plain": [
       "180000.0"
      ]
     },
     "execution_count": 29,
     "metadata": {},
     "output_type": "execute_result"
    }
   ],
   "source": [
    "a"
   ]
  },
  {
   "cell_type": "code",
   "execution_count": 30,
   "id": "c5e86026-0763-4333-bd6d-2205ccc2cb3a",
   "metadata": {},
   "outputs": [],
   "source": [
    "# string datatype"
   ]
  },
  {
   "cell_type": "code",
   "execution_count": 31,
   "id": "0cdfb838-8d6f-49be-9584-db86f8f818eb",
   "metadata": {},
   "outputs": [],
   "source": [
    "name = 'Siddhi'"
   ]
  },
  {
   "cell_type": "code",
   "execution_count": 32,
   "id": "5e119df0-249b-4adc-854f-711ac1f229e2",
   "metadata": {},
   "outputs": [
    {
     "name": "stdout",
     "output_type": "stream",
     "text": [
      "Siddhi\n"
     ]
    }
   ],
   "source": [
    "print(name)"
   ]
  },
  {
   "cell_type": "code",
   "execution_count": 33,
   "id": "a8ca21fd-de51-427c-8f99-4186de8bf501",
   "metadata": {},
   "outputs": [
    {
     "name": "stdout",
     "output_type": "stream",
     "text": [
      "name\n"
     ]
    }
   ],
   "source": [
    "print('name')"
   ]
  },
  {
   "cell_type": "code",
   "execution_count": 34,
   "id": "5c7b2a4f-1c05-469c-985e-12b8507ef8b1",
   "metadata": {},
   "outputs": [],
   "source": [
    "sent = 'I like Python programming'"
   ]
  },
  {
   "cell_type": "code",
   "execution_count": 35,
   "id": "fbb10982-2227-46b1-b6bf-88df24444fa8",
   "metadata": {},
   "outputs": [
    {
     "data": {
      "text/plain": [
       "'I like Python programming'"
      ]
     },
     "execution_count": 35,
     "metadata": {},
     "output_type": "execute_result"
    }
   ],
   "source": [
    "sent"
   ]
  },
  {
   "cell_type": "code",
   "execution_count": 36,
   "id": "64a0acd6-ef9b-496c-b0ab-c52fa4ad2918",
   "metadata": {},
   "outputs": [],
   "source": [
    "sent =  \"I like 'Python' programming\""
   ]
  },
  {
   "cell_type": "code",
   "execution_count": 37,
   "id": "23c28eea-1bea-4cf0-8dea-55fd9dd004e0",
   "metadata": {},
   "outputs": [
    {
     "name": "stdout",
     "output_type": "stream",
     "text": [
      "I like 'Python' programming\n"
     ]
    }
   ],
   "source": [
    "print(sent)\n"
   ]
  },
  {
   "cell_type": "code",
   "execution_count": 38,
   "id": "298820de-1f2a-48a0-900a-392e8ff18704",
   "metadata": {},
   "outputs": [],
   "source": [
    "sent =  'I like \"Python\" programming'"
   ]
  },
  {
   "cell_type": "code",
   "execution_count": 40,
   "id": "0a14e6eb-aa38-41c6-867e-45215419341f",
   "metadata": {},
   "outputs": [
    {
     "name": "stdout",
     "output_type": "stream",
     "text": [
      "I like \"Python\" programming\n"
     ]
    }
   ],
   "source": [
    "print(sent)"
   ]
  },
  {
   "cell_type": "code",
   "execution_count": 41,
   "id": "762fb4ba-6ce3-4ecd-99c3-38156923b422",
   "metadata": {},
   "outputs": [],
   "source": [
    "num1, num2, num3 = 42, 45, 'Siddhi'"
   ]
  },
  {
   "cell_type": "code",
   "execution_count": 42,
   "id": "db02bf6a-bd31-41dc-9bd3-c8a3854392b9",
   "metadata": {},
   "outputs": [
    {
     "data": {
      "text/plain": [
       "42"
      ]
     },
     "execution_count": 42,
     "metadata": {},
     "output_type": "execute_result"
    }
   ],
   "source": [
    "num1"
   ]
  },
  {
   "cell_type": "code",
   "execution_count": 43,
   "id": "27eeb1e7-af83-44d5-882c-741367f4cca8",
   "metadata": {},
   "outputs": [
    {
     "data": {
      "text/plain": [
       "45"
      ]
     },
     "execution_count": 43,
     "metadata": {},
     "output_type": "execute_result"
    }
   ],
   "source": [
    "num2"
   ]
  },
  {
   "cell_type": "code",
   "execution_count": 44,
   "id": "eee3ab02-8ba0-43b6-8ad8-ef114fcdd575",
   "metadata": {},
   "outputs": [
    {
     "data": {
      "text/plain": [
       "'Siddhi'"
      ]
     },
     "execution_count": 44,
     "metadata": {},
     "output_type": "execute_result"
    }
   ],
   "source": [
    "num3"
   ]
  },
  {
   "cell_type": "code",
   "execution_count": 45,
   "id": "7c05b43c-93d3-4e73-bd52-766eb0e66679",
   "metadata": {},
   "outputs": [],
   "source": [
    "num1 = 45\n",
    "num2 = 50"
   ]
  },
  {
   "cell_type": "code",
   "execution_count": 46,
   "id": "0ba1e2e8-ff43-487a-99c6-e8dea44bde77",
   "metadata": {},
   "outputs": [
    {
     "data": {
      "text/plain": [
       "95"
      ]
     },
     "execution_count": 46,
     "metadata": {},
     "output_type": "execute_result"
    }
   ],
   "source": [
    "result = num1 + num2\n",
    "result"
   ]
  },
  {
   "cell_type": "code",
   "execution_count": 47,
   "id": "56b960fc-00c6-4faa-bc1f-b9db406dd893",
   "metadata": {},
   "outputs": [
    {
     "name": "stdout",
     "output_type": "stream",
     "text": [
      "95\n"
     ]
    }
   ],
   "source": [
    "num1 = 45; num2 = 50; result = num1+num2; print(result)"
   ]
  },
  {
   "cell_type": "code",
   "execution_count": 48,
   "id": "32e5c862-8dfb-4b36-91a4-14b6947ae0df",
   "metadata": {},
   "outputs": [],
   "source": [
    "name = 'Siddhi'"
   ]
  },
  {
   "cell_type": "code",
   "execution_count": 49,
   "id": "cf9dbef2-eafb-4ea1-ac54-8488749c6507",
   "metadata": {},
   "outputs": [
    {
     "data": {
      "text/plain": [
       "'siddhi'"
      ]
     },
     "execution_count": 49,
     "metadata": {},
     "output_type": "execute_result"
    }
   ],
   "source": [
    "name.lower()"
   ]
  },
  {
   "cell_type": "code",
   "execution_count": 50,
   "id": "cd604f08-a837-4801-8bfd-554ea9191b1c",
   "metadata": {},
   "outputs": [
    {
     "data": {
      "text/plain": [
       "'SIDDHI'"
      ]
     },
     "execution_count": 50,
     "metadata": {},
     "output_type": "execute_result"
    }
   ],
   "source": [
    "name.upper()"
   ]
  },
  {
   "cell_type": "code",
   "execution_count": 51,
   "id": "c5a84340-d9b6-4bc0-807a-c65f6c88e4b6",
   "metadata": {},
   "outputs": [
    {
     "data": {
      "text/plain": [
       "'sIDDHI'"
      ]
     },
     "execution_count": 51,
     "metadata": {},
     "output_type": "execute_result"
    }
   ],
   "source": [
    "name.swapcase()"
   ]
  },
  {
   "cell_type": "code",
   "execution_count": 52,
   "id": "6da77505-af2a-44e1-b252-01aaecd8e22d",
   "metadata": {},
   "outputs": [
    {
     "data": {
      "text/plain": [
       "6"
      ]
     },
     "execution_count": 52,
     "metadata": {},
     "output_type": "execute_result"
    }
   ],
   "source": [
    "len(name)\n"
   ]
  },
  {
   "cell_type": "code",
   "execution_count": 53,
   "id": "47bf6351-f13a-493d-bb19-0cc5a61243ec",
   "metadata": {},
   "outputs": [
    {
     "data": {
      "text/plain": [
       "False"
      ]
     },
     "execution_count": 53,
     "metadata": {},
     "output_type": "execute_result"
    }
   ],
   "source": [
    "name.isupper()"
   ]
  },
  {
   "cell_type": "code",
   "execution_count": 54,
   "id": "cd5f35cf-2c6f-4fcd-9006-383365a90da9",
   "metadata": {},
   "outputs": [
    {
     "data": {
      "text/plain": [
       "False"
      ]
     },
     "execution_count": 54,
     "metadata": {},
     "output_type": "execute_result"
    }
   ],
   "source": [
    "name.islower()"
   ]
  },
  {
   "cell_type": "code",
   "execution_count": 55,
   "id": "953cdc01-5936-481f-a78d-c8e73a9c7fc0",
   "metadata": {},
   "outputs": [
    {
     "data": {
      "text/plain": [
       "True"
      ]
     },
     "execution_count": 55,
     "metadata": {},
     "output_type": "execute_result"
    }
   ],
   "source": [
    "name.istitle()"
   ]
  },
  {
   "cell_type": "code",
   "execution_count": 56,
   "id": "baf6f9d4-22c3-474f-84d6-f7e53ae2cebc",
   "metadata": {},
   "outputs": [],
   "source": [
    "data1 = 'Siddhi'\n",
    "data2 = '1234'\n",
    "data3 = 'Sid123'"
   ]
  },
  {
   "cell_type": "code",
   "execution_count": 57,
   "id": "5b66a857-a84d-4ff2-8897-5734390873b4",
   "metadata": {},
   "outputs": [
    {
     "data": {
      "text/plain": [
       "True"
      ]
     },
     "execution_count": 57,
     "metadata": {},
     "output_type": "execute_result"
    }
   ],
   "source": [
    "data1.isalpha()"
   ]
  },
  {
   "cell_type": "code",
   "execution_count": 58,
   "id": "837d48b8-4e76-4475-825a-1602a0202616",
   "metadata": {},
   "outputs": [
    {
     "data": {
      "text/plain": [
       "False"
      ]
     },
     "execution_count": 58,
     "metadata": {},
     "output_type": "execute_result"
    }
   ],
   "source": [
    "data2.isalpha()"
   ]
  },
  {
   "cell_type": "code",
   "execution_count": 59,
   "id": "d8a29576-bae1-4487-be55-7bade9065b01",
   "metadata": {},
   "outputs": [
    {
     "data": {
      "text/plain": [
       "False"
      ]
     },
     "execution_count": 59,
     "metadata": {},
     "output_type": "execute_result"
    }
   ],
   "source": [
    "data3.isalpha()"
   ]
  },
  {
   "cell_type": "code",
   "execution_count": 60,
   "id": "802f675f-98c8-4dc9-a8a6-b3b35f4a3597",
   "metadata": {},
   "outputs": [
    {
     "data": {
      "text/plain": [
       "False"
      ]
     },
     "execution_count": 60,
     "metadata": {},
     "output_type": "execute_result"
    }
   ],
   "source": [
    "data1.isdigit()"
   ]
  },
  {
   "cell_type": "code",
   "execution_count": 61,
   "id": "d315b247-adc9-4800-9dd8-08511f98e877",
   "metadata": {},
   "outputs": [
    {
     "data": {
      "text/plain": [
       "True"
      ]
     },
     "execution_count": 61,
     "metadata": {},
     "output_type": "execute_result"
    }
   ],
   "source": [
    "data2.isdigit()"
   ]
  },
  {
   "cell_type": "code",
   "execution_count": 62,
   "id": "82a42bdc-7856-4353-b355-85dd9890b14f",
   "metadata": {},
   "outputs": [
    {
     "data": {
      "text/plain": [
       "False"
      ]
     },
     "execution_count": 62,
     "metadata": {},
     "output_type": "execute_result"
    }
   ],
   "source": [
    "data3.isdigit()"
   ]
  },
  {
   "cell_type": "code",
   "execution_count": 63,
   "id": "cb76956f-27b7-4bdc-8712-62cc03183eb5",
   "metadata": {},
   "outputs": [
    {
     "data": {
      "text/plain": [
       "True"
      ]
     },
     "execution_count": 63,
     "metadata": {},
     "output_type": "execute_result"
    }
   ],
   "source": [
    "data1.isalnum()"
   ]
  },
  {
   "cell_type": "code",
   "execution_count": 64,
   "id": "a900a29e-3b06-41a5-96fb-671b084f5021",
   "metadata": {},
   "outputs": [
    {
     "data": {
      "text/plain": [
       "True"
      ]
     },
     "execution_count": 64,
     "metadata": {},
     "output_type": "execute_result"
    }
   ],
   "source": [
    "data3.isalnum()"
   ]
  },
  {
   "cell_type": "code",
   "execution_count": 71,
   "id": "42cd4d46-5ba3-4cc6-854b-25fabf150445",
   "metadata": {},
   "outputs": [],
   "source": [
    "name = ' Siddhi '"
   ]
  },
  {
   "cell_type": "code",
   "execution_count": 66,
   "id": "f88680db-cb22-4605-ad24-aed60ce2a2bc",
   "metadata": {},
   "outputs": [
    {
     "name": "stdout",
     "output_type": "stream",
     "text": [
      "Siddhi\n"
     ]
    }
   ],
   "source": [
    "print(name)"
   ]
  },
  {
   "cell_type": "code",
   "execution_count": 68,
   "id": "be0973ad-1c66-48a3-a5f5-edc3c9d92e6d",
   "metadata": {},
   "outputs": [
    {
     "data": {
      "text/plain": [
       "'Siddhi '"
      ]
     },
     "execution_count": 68,
     "metadata": {},
     "output_type": "execute_result"
    }
   ],
   "source": [
    "name.lstrip()"
   ]
  },
  {
   "cell_type": "code",
   "execution_count": 70,
   "id": "722d9b23-f810-4f82-9c6e-34722c09818a",
   "metadata": {},
   "outputs": [
    {
     "data": {
      "text/plain": [
       "' Siddhi'"
      ]
     },
     "execution_count": 70,
     "metadata": {},
     "output_type": "execute_result"
    }
   ],
   "source": [
    "name.rstrip()"
   ]
  },
  {
   "cell_type": "code",
   "execution_count": 72,
   "id": "69f3a0c3-d974-4b01-afab-98080f41c585",
   "metadata": {},
   "outputs": [
    {
     "data": {
      "text/plain": [
       "'Siddhi'"
      ]
     },
     "execution_count": 72,
     "metadata": {},
     "output_type": "execute_result"
    }
   ],
   "source": [
    "name.strip()"
   ]
  },
  {
   "cell_type": "code",
   "execution_count": 73,
   "id": "e45388fe-cc89-4bc8-9888-cf2e8f219e8f",
   "metadata": {},
   "outputs": [
    {
     "data": {
      "text/plain": [
       "' Siddhi '"
      ]
     },
     "execution_count": 73,
     "metadata": {},
     "output_type": "execute_result"
    }
   ],
   "source": [
    "name"
   ]
  },
  {
   "cell_type": "code",
   "execution_count": 74,
   "id": "9c002468-ff9f-4b72-a8d9-7b138a9e1e50",
   "metadata": {},
   "outputs": [
    {
     "data": {
      "text/plain": [
       "True"
      ]
     },
     "execution_count": 74,
     "metadata": {},
     "output_type": "execute_result"
    }
   ],
   "source": [
    "name.startswith(' S')"
   ]
  },
  {
   "cell_type": "code",
   "execution_count": 75,
   "id": "f2749fcf-2f30-4c13-ae23-7f5b818d15da",
   "metadata": {},
   "outputs": [
    {
     "data": {
      "text/plain": [
       "True"
      ]
     },
     "execution_count": 75,
     "metadata": {},
     "output_type": "execute_result"
    }
   ],
   "source": [
    "name.endswith('i ')"
   ]
  },
  {
   "cell_type": "code",
   "execution_count": 76,
   "id": "fe707a72-af72-4be7-ad1a-fca70d9223e1",
   "metadata": {},
   "outputs": [
    {
     "data": {
      "text/plain": [
       "' ssiddhi '"
      ]
     },
     "execution_count": 76,
     "metadata": {},
     "output_type": "execute_result"
    }
   ],
   "source": [
    "name.replace('S', 'ss')"
   ]
  },
  {
   "cell_type": "code",
   "execution_count": 77,
   "id": "18d3e339-62d6-40ee-8fa8-541f8ea41eec",
   "metadata": {},
   "outputs": [
    {
     "data": {
      "text/plain": [
       "'Siddhi'"
      ]
     },
     "execution_count": 77,
     "metadata": {},
     "output_type": "execute_result"
    }
   ],
   "source": [
    "name = name.strip()\n",
    "name"
   ]
  },
  {
   "cell_type": "code",
   "execution_count": 78,
   "id": "97349761-6db2-40dc-b468-598266b2ae26",
   "metadata": {},
   "outputs": [
    {
     "data": {
      "text/plain": [
       "1"
      ]
     },
     "execution_count": 78,
     "metadata": {},
     "output_type": "execute_result"
    }
   ],
   "source": [
    "name.find('i')"
   ]
  },
  {
   "cell_type": "code",
   "execution_count": 79,
   "id": "89d72198-e74c-4491-a964-84ac90efe55c",
   "metadata": {},
   "outputs": [
    {
     "data": {
      "text/plain": [
       "['__add__',\n",
       " '__class__',\n",
       " '__contains__',\n",
       " '__delattr__',\n",
       " '__dir__',\n",
       " '__doc__',\n",
       " '__eq__',\n",
       " '__format__',\n",
       " '__ge__',\n",
       " '__getattribute__',\n",
       " '__getitem__',\n",
       " '__getnewargs__',\n",
       " '__getstate__',\n",
       " '__gt__',\n",
       " '__hash__',\n",
       " '__init__',\n",
       " '__init_subclass__',\n",
       " '__iter__',\n",
       " '__le__',\n",
       " '__len__',\n",
       " '__lt__',\n",
       " '__mod__',\n",
       " '__mul__',\n",
       " '__ne__',\n",
       " '__new__',\n",
       " '__reduce__',\n",
       " '__reduce_ex__',\n",
       " '__repr__',\n",
       " '__rmod__',\n",
       " '__rmul__',\n",
       " '__setattr__',\n",
       " '__sizeof__',\n",
       " '__str__',\n",
       " '__subclasshook__',\n",
       " 'capitalize',\n",
       " 'casefold',\n",
       " 'center',\n",
       " 'count',\n",
       " 'encode',\n",
       " 'endswith',\n",
       " 'expandtabs',\n",
       " 'find',\n",
       " 'format',\n",
       " 'format_map',\n",
       " 'index',\n",
       " 'isalnum',\n",
       " 'isalpha',\n",
       " 'isascii',\n",
       " 'isdecimal',\n",
       " 'isdigit',\n",
       " 'isidentifier',\n",
       " 'islower',\n",
       " 'isnumeric',\n",
       " 'isprintable',\n",
       " 'isspace',\n",
       " 'istitle',\n",
       " 'isupper',\n",
       " 'join',\n",
       " 'ljust',\n",
       " 'lower',\n",
       " 'lstrip',\n",
       " 'maketrans',\n",
       " 'partition',\n",
       " 'removeprefix',\n",
       " 'removesuffix',\n",
       " 'replace',\n",
       " 'rfind',\n",
       " 'rindex',\n",
       " 'rjust',\n",
       " 'rpartition',\n",
       " 'rsplit',\n",
       " 'rstrip',\n",
       " 'split',\n",
       " 'splitlines',\n",
       " 'startswith',\n",
       " 'strip',\n",
       " 'swapcase',\n",
       " 'title',\n",
       " 'translate',\n",
       " 'upper',\n",
       " 'zfill']"
      ]
     },
     "execution_count": 79,
     "metadata": {},
     "output_type": "execute_result"
    }
   ],
   "source": [
    "dir(name)"
   ]
  },
  {
   "cell_type": "code",
   "execution_count": 80,
   "id": "392ce225-5356-4322-9920-01803dc7a135",
   "metadata": {},
   "outputs": [
    {
     "name": "stdout",
     "output_type": "stream",
     "text": [
      "Help on built-in function lower:\n",
      "\n",
      "lower() method of builtins.str instance\n",
      "    Return a copy of the string converted to lowercase.\n",
      "\n"
     ]
    }
   ],
   "source": [
    "help(name.lower)"
   ]
  },
  {
   "cell_type": "code",
   "execution_count": 81,
   "id": "0aa7c329-18df-42d7-9702-490d01ead7d4",
   "metadata": {},
   "outputs": [
    {
     "name": "stdout",
     "output_type": "stream",
     "text": [
      "Help on class str in module builtins:\n",
      "\n",
      "class str(object)\n",
      " |  str(object='') -> str\n",
      " |  str(bytes_or_buffer[, encoding[, errors]]) -> str\n",
      " |  \n",
      " |  Create a new string object from the given object. If encoding or\n",
      " |  errors is specified, then the object must expose a data buffer\n",
      " |  that will be decoded using the given encoding and error handler.\n",
      " |  Otherwise, returns the result of object.__str__() (if defined)\n",
      " |  or repr(object).\n",
      " |  encoding defaults to sys.getdefaultencoding().\n",
      " |  errors defaults to 'strict'.\n",
      " |  \n",
      " |  Methods defined here:\n",
      " |  \n",
      " |  __add__(self, value, /)\n",
      " |      Return self+value.\n",
      " |  \n",
      " |  __contains__(self, key, /)\n",
      " |      Return key in self.\n",
      " |  \n",
      " |  __eq__(self, value, /)\n",
      " |      Return self==value.\n",
      " |  \n",
      " |  __format__(self, format_spec, /)\n",
      " |      Return a formatted version of the string as described by format_spec.\n",
      " |  \n",
      " |  __ge__(self, value, /)\n",
      " |      Return self>=value.\n",
      " |  \n",
      " |  __getattribute__(self, name, /)\n",
      " |      Return getattr(self, name).\n",
      " |  \n",
      " |  __getitem__(self, key, /)\n",
      " |      Return self[key].\n",
      " |  \n",
      " |  __getnewargs__(...)\n",
      " |  \n",
      " |  __gt__(self, value, /)\n",
      " |      Return self>value.\n",
      " |  \n",
      " |  __hash__(self, /)\n",
      " |      Return hash(self).\n",
      " |  \n",
      " |  __iter__(self, /)\n",
      " |      Implement iter(self).\n",
      " |  \n",
      " |  __le__(self, value, /)\n",
      " |      Return self<=value.\n",
      " |  \n",
      " |  __len__(self, /)\n",
      " |      Return len(self).\n",
      " |  \n",
      " |  __lt__(self, value, /)\n",
      " |      Return self<value.\n",
      " |  \n",
      " |  __mod__(self, value, /)\n",
      " |      Return self%value.\n",
      " |  \n",
      " |  __mul__(self, value, /)\n",
      " |      Return self*value.\n",
      " |  \n",
      " |  __ne__(self, value, /)\n",
      " |      Return self!=value.\n",
      " |  \n",
      " |  __repr__(self, /)\n",
      " |      Return repr(self).\n",
      " |  \n",
      " |  __rmod__(self, value, /)\n",
      " |      Return value%self.\n",
      " |  \n",
      " |  __rmul__(self, value, /)\n",
      " |      Return value*self.\n",
      " |  \n",
      " |  __sizeof__(self, /)\n",
      " |      Return the size of the string in memory, in bytes.\n",
      " |  \n",
      " |  __str__(self, /)\n",
      " |      Return str(self).\n",
      " |  \n",
      " |  capitalize(self, /)\n",
      " |      Return a capitalized version of the string.\n",
      " |      \n",
      " |      More specifically, make the first character have upper case and the rest lower\n",
      " |      case.\n",
      " |  \n",
      " |  casefold(self, /)\n",
      " |      Return a version of the string suitable for caseless comparisons.\n",
      " |  \n",
      " |  center(self, width, fillchar=' ', /)\n",
      " |      Return a centered string of length width.\n",
      " |      \n",
      " |      Padding is done using the specified fill character (default is a space).\n",
      " |  \n",
      " |  count(...)\n",
      " |      S.count(sub[, start[, end]]) -> int\n",
      " |      \n",
      " |      Return the number of non-overlapping occurrences of substring sub in\n",
      " |      string S[start:end].  Optional arguments start and end are\n",
      " |      interpreted as in slice notation.\n",
      " |  \n",
      " |  encode(self, /, encoding='utf-8', errors='strict')\n",
      " |      Encode the string using the codec registered for encoding.\n",
      " |      \n",
      " |      encoding\n",
      " |        The encoding in which to encode the string.\n",
      " |      errors\n",
      " |        The error handling scheme to use for encoding errors.\n",
      " |        The default is 'strict' meaning that encoding errors raise a\n",
      " |        UnicodeEncodeError.  Other possible values are 'ignore', 'replace' and\n",
      " |        'xmlcharrefreplace' as well as any other name registered with\n",
      " |        codecs.register_error that can handle UnicodeEncodeErrors.\n",
      " |  \n",
      " |  endswith(...)\n",
      " |      S.endswith(suffix[, start[, end]]) -> bool\n",
      " |      \n",
      " |      Return True if S ends with the specified suffix, False otherwise.\n",
      " |      With optional start, test S beginning at that position.\n",
      " |      With optional end, stop comparing S at that position.\n",
      " |      suffix can also be a tuple of strings to try.\n",
      " |  \n",
      " |  expandtabs(self, /, tabsize=8)\n",
      " |      Return a copy where all tab characters are expanded using spaces.\n",
      " |      \n",
      " |      If tabsize is not given, a tab size of 8 characters is assumed.\n",
      " |  \n",
      " |  find(...)\n",
      " |      S.find(sub[, start[, end]]) -> int\n",
      " |      \n",
      " |      Return the lowest index in S where substring sub is found,\n",
      " |      such that sub is contained within S[start:end].  Optional\n",
      " |      arguments start and end are interpreted as in slice notation.\n",
      " |      \n",
      " |      Return -1 on failure.\n",
      " |  \n",
      " |  format(...)\n",
      " |      S.format(*args, **kwargs) -> str\n",
      " |      \n",
      " |      Return a formatted version of S, using substitutions from args and kwargs.\n",
      " |      The substitutions are identified by braces ('{' and '}').\n",
      " |  \n",
      " |  format_map(...)\n",
      " |      S.format_map(mapping) -> str\n",
      " |      \n",
      " |      Return a formatted version of S, using substitutions from mapping.\n",
      " |      The substitutions are identified by braces ('{' and '}').\n",
      " |  \n",
      " |  index(...)\n",
      " |      S.index(sub[, start[, end]]) -> int\n",
      " |      \n",
      " |      Return the lowest index in S where substring sub is found,\n",
      " |      such that sub is contained within S[start:end].  Optional\n",
      " |      arguments start and end are interpreted as in slice notation.\n",
      " |      \n",
      " |      Raises ValueError when the substring is not found.\n",
      " |  \n",
      " |  isalnum(self, /)\n",
      " |      Return True if the string is an alpha-numeric string, False otherwise.\n",
      " |      \n",
      " |      A string is alpha-numeric if all characters in the string are alpha-numeric and\n",
      " |      there is at least one character in the string.\n",
      " |  \n",
      " |  isalpha(self, /)\n",
      " |      Return True if the string is an alphabetic string, False otherwise.\n",
      " |      \n",
      " |      A string is alphabetic if all characters in the string are alphabetic and there\n",
      " |      is at least one character in the string.\n",
      " |  \n",
      " |  isascii(self, /)\n",
      " |      Return True if all characters in the string are ASCII, False otherwise.\n",
      " |      \n",
      " |      ASCII characters have code points in the range U+0000-U+007F.\n",
      " |      Empty string is ASCII too.\n",
      " |  \n",
      " |  isdecimal(self, /)\n",
      " |      Return True if the string is a decimal string, False otherwise.\n",
      " |      \n",
      " |      A string is a decimal string if all characters in the string are decimal and\n",
      " |      there is at least one character in the string.\n",
      " |  \n",
      " |  isdigit(self, /)\n",
      " |      Return True if the string is a digit string, False otherwise.\n",
      " |      \n",
      " |      A string is a digit string if all characters in the string are digits and there\n",
      " |      is at least one character in the string.\n",
      " |  \n",
      " |  isidentifier(self, /)\n",
      " |      Return True if the string is a valid Python identifier, False otherwise.\n",
      " |      \n",
      " |      Call keyword.iskeyword(s) to test whether string s is a reserved identifier,\n",
      " |      such as \"def\" or \"class\".\n",
      " |  \n",
      " |  islower(self, /)\n",
      " |      Return True if the string is a lowercase string, False otherwise.\n",
      " |      \n",
      " |      A string is lowercase if all cased characters in the string are lowercase and\n",
      " |      there is at least one cased character in the string.\n",
      " |  \n",
      " |  isnumeric(self, /)\n",
      " |      Return True if the string is a numeric string, False otherwise.\n",
      " |      \n",
      " |      A string is numeric if all characters in the string are numeric and there is at\n",
      " |      least one character in the string.\n",
      " |  \n",
      " |  isprintable(self, /)\n",
      " |      Return True if the string is printable, False otherwise.\n",
      " |      \n",
      " |      A string is printable if all of its characters are considered printable in\n",
      " |      repr() or if it is empty.\n",
      " |  \n",
      " |  isspace(self, /)\n",
      " |      Return True if the string is a whitespace string, False otherwise.\n",
      " |      \n",
      " |      A string is whitespace if all characters in the string are whitespace and there\n",
      " |      is at least one character in the string.\n",
      " |  \n",
      " |  istitle(self, /)\n",
      " |      Return True if the string is a title-cased string, False otherwise.\n",
      " |      \n",
      " |      In a title-cased string, upper- and title-case characters may only\n",
      " |      follow uncased characters and lowercase characters only cased ones.\n",
      " |  \n",
      " |  isupper(self, /)\n",
      " |      Return True if the string is an uppercase string, False otherwise.\n",
      " |      \n",
      " |      A string is uppercase if all cased characters in the string are uppercase and\n",
      " |      there is at least one cased character in the string.\n",
      " |  \n",
      " |  join(self, iterable, /)\n",
      " |      Concatenate any number of strings.\n",
      " |      \n",
      " |      The string whose method is called is inserted in between each given string.\n",
      " |      The result is returned as a new string.\n",
      " |      \n",
      " |      Example: '.'.join(['ab', 'pq', 'rs']) -> 'ab.pq.rs'\n",
      " |  \n",
      " |  ljust(self, width, fillchar=' ', /)\n",
      " |      Return a left-justified string of length width.\n",
      " |      \n",
      " |      Padding is done using the specified fill character (default is a space).\n",
      " |  \n",
      " |  lower(self, /)\n",
      " |      Return a copy of the string converted to lowercase.\n",
      " |  \n",
      " |  lstrip(self, chars=None, /)\n",
      " |      Return a copy of the string with leading whitespace removed.\n",
      " |      \n",
      " |      If chars is given and not None, remove characters in chars instead.\n",
      " |  \n",
      " |  partition(self, sep, /)\n",
      " |      Partition the string into three parts using the given separator.\n",
      " |      \n",
      " |      This will search for the separator in the string.  If the separator is found,\n",
      " |      returns a 3-tuple containing the part before the separator, the separator\n",
      " |      itself, and the part after it.\n",
      " |      \n",
      " |      If the separator is not found, returns a 3-tuple containing the original string\n",
      " |      and two empty strings.\n",
      " |  \n",
      " |  removeprefix(self, prefix, /)\n",
      " |      Return a str with the given prefix string removed if present.\n",
      " |      \n",
      " |      If the string starts with the prefix string, return string[len(prefix):].\n",
      " |      Otherwise, return a copy of the original string.\n",
      " |  \n",
      " |  removesuffix(self, suffix, /)\n",
      " |      Return a str with the given suffix string removed if present.\n",
      " |      \n",
      " |      If the string ends with the suffix string and that suffix is not empty,\n",
      " |      return string[:-len(suffix)]. Otherwise, return a copy of the original\n",
      " |      string.\n",
      " |  \n",
      " |  replace(self, old, new, count=-1, /)\n",
      " |      Return a copy with all occurrences of substring old replaced by new.\n",
      " |      \n",
      " |        count\n",
      " |          Maximum number of occurrences to replace.\n",
      " |          -1 (the default value) means replace all occurrences.\n",
      " |      \n",
      " |      If the optional argument count is given, only the first count occurrences are\n",
      " |      replaced.\n",
      " |  \n",
      " |  rfind(...)\n",
      " |      S.rfind(sub[, start[, end]]) -> int\n",
      " |      \n",
      " |      Return the highest index in S where substring sub is found,\n",
      " |      such that sub is contained within S[start:end].  Optional\n",
      " |      arguments start and end are interpreted as in slice notation.\n",
      " |      \n",
      " |      Return -1 on failure.\n",
      " |  \n",
      " |  rindex(...)\n",
      " |      S.rindex(sub[, start[, end]]) -> int\n",
      " |      \n",
      " |      Return the highest index in S where substring sub is found,\n",
      " |      such that sub is contained within S[start:end].  Optional\n",
      " |      arguments start and end are interpreted as in slice notation.\n",
      " |      \n",
      " |      Raises ValueError when the substring is not found.\n",
      " |  \n",
      " |  rjust(self, width, fillchar=' ', /)\n",
      " |      Return a right-justified string of length width.\n",
      " |      \n",
      " |      Padding is done using the specified fill character (default is a space).\n",
      " |  \n",
      " |  rpartition(self, sep, /)\n",
      " |      Partition the string into three parts using the given separator.\n",
      " |      \n",
      " |      This will search for the separator in the string, starting at the end. If\n",
      " |      the separator is found, returns a 3-tuple containing the part before the\n",
      " |      separator, the separator itself, and the part after it.\n",
      " |      \n",
      " |      If the separator is not found, returns a 3-tuple containing two empty strings\n",
      " |      and the original string.\n",
      " |  \n",
      " |  rsplit(self, /, sep=None, maxsplit=-1)\n",
      " |      Return a list of the substrings in the string, using sep as the separator string.\n",
      " |      \n",
      " |        sep\n",
      " |          The separator used to split the string.\n",
      " |      \n",
      " |          When set to None (the default value), will split on any whitespace\n",
      " |          character (including \\n \\r \\t \\f and spaces) and will discard\n",
      " |          empty strings from the result.\n",
      " |        maxsplit\n",
      " |          Maximum number of splits (starting from the left).\n",
      " |          -1 (the default value) means no limit.\n",
      " |      \n",
      " |      Splitting starts at the end of the string and works to the front.\n",
      " |  \n",
      " |  rstrip(self, chars=None, /)\n",
      " |      Return a copy of the string with trailing whitespace removed.\n",
      " |      \n",
      " |      If chars is given and not None, remove characters in chars instead.\n",
      " |  \n",
      " |  split(self, /, sep=None, maxsplit=-1)\n",
      " |      Return a list of the substrings in the string, using sep as the separator string.\n",
      " |      \n",
      " |        sep\n",
      " |          The separator used to split the string.\n",
      " |      \n",
      " |          When set to None (the default value), will split on any whitespace\n",
      " |          character (including \\n \\r \\t \\f and spaces) and will discard\n",
      " |          empty strings from the result.\n",
      " |        maxsplit\n",
      " |          Maximum number of splits (starting from the left).\n",
      " |          -1 (the default value) means no limit.\n",
      " |      \n",
      " |      Note, str.split() is mainly useful for data that has been intentionally\n",
      " |      delimited.  With natural text that includes punctuation, consider using\n",
      " |      the regular expression module.\n",
      " |  \n",
      " |  splitlines(self, /, keepends=False)\n",
      " |      Return a list of the lines in the string, breaking at line boundaries.\n",
      " |      \n",
      " |      Line breaks are not included in the resulting list unless keepends is given and\n",
      " |      true.\n",
      " |  \n",
      " |  startswith(...)\n",
      " |      S.startswith(prefix[, start[, end]]) -> bool\n",
      " |      \n",
      " |      Return True if S starts with the specified prefix, False otherwise.\n",
      " |      With optional start, test S beginning at that position.\n",
      " |      With optional end, stop comparing S at that position.\n",
      " |      prefix can also be a tuple of strings to try.\n",
      " |  \n",
      " |  strip(self, chars=None, /)\n",
      " |      Return a copy of the string with leading and trailing whitespace removed.\n",
      " |      \n",
      " |      If chars is given and not None, remove characters in chars instead.\n",
      " |  \n",
      " |  swapcase(self, /)\n",
      " |      Convert uppercase characters to lowercase and lowercase characters to uppercase.\n",
      " |  \n",
      " |  title(self, /)\n",
      " |      Return a version of the string where each word is titlecased.\n",
      " |      \n",
      " |      More specifically, words start with uppercased characters and all remaining\n",
      " |      cased characters have lower case.\n",
      " |  \n",
      " |  translate(self, table, /)\n",
      " |      Replace each character in the string using the given translation table.\n",
      " |      \n",
      " |        table\n",
      " |          Translation table, which must be a mapping of Unicode ordinals to\n",
      " |          Unicode ordinals, strings, or None.\n",
      " |      \n",
      " |      The table must implement lookup/indexing via __getitem__, for instance a\n",
      " |      dictionary or list.  If this operation raises LookupError, the character is\n",
      " |      left untouched.  Characters mapped to None are deleted.\n",
      " |  \n",
      " |  upper(self, /)\n",
      " |      Return a copy of the string converted to uppercase.\n",
      " |  \n",
      " |  zfill(self, width, /)\n",
      " |      Pad a numeric string with zeros on the left, to fill a field of the given width.\n",
      " |      \n",
      " |      The string is never truncated.\n",
      " |  \n",
      " |  ----------------------------------------------------------------------\n",
      " |  Static methods defined here:\n",
      " |  \n",
      " |  __new__(*args, **kwargs) from builtins.type\n",
      " |      Create and return a new object.  See help(type) for accurate signature.\n",
      " |  \n",
      " |  maketrans(...)\n",
      " |      Return a translation table usable for str.translate().\n",
      " |      \n",
      " |      If there is only one argument, it must be a dictionary mapping Unicode\n",
      " |      ordinals (integers) or characters to Unicode ordinals, strings or None.\n",
      " |      Character keys will be then converted to ordinals.\n",
      " |      If there are two arguments, they must be strings of equal length, and\n",
      " |      in the resulting dictionary, each character in x will be mapped to the\n",
      " |      character at the same position in y. If there is a third argument, it\n",
      " |      must be a string, whose characters will be mapped to None in the result.\n",
      "\n"
     ]
    }
   ],
   "source": [
    "help(str)"
   ]
  },
  {
   "cell_type": "code",
   "execution_count": 82,
   "id": "058e4971-4eb1-4a62-8609-14b81e2f65e7",
   "metadata": {},
   "outputs": [],
   "source": [
    "name1 = 'Siddhi'\n",
    "name2 = '1234'"
   ]
  },
  {
   "cell_type": "code",
   "execution_count": 85,
   "id": "7081b5f8-c4f6-448f-b2fb-e54a0277ec57",
   "metadata": {},
   "outputs": [],
   "source": [
    "result = name1 + name2"
   ]
  },
  {
   "cell_type": "code",
   "execution_count": 86,
   "id": "be668831-a5b0-4aee-b927-a6cd92c56443",
   "metadata": {},
   "outputs": [
    {
     "data": {
      "text/plain": [
       "'Siddhi1234'"
      ]
     },
     "execution_count": 86,
     "metadata": {},
     "output_type": "execute_result"
    }
   ],
   "source": [
    "result"
   ]
  },
  {
   "cell_type": "code",
   "execution_count": 87,
   "id": "b4792709-88cd-4c4c-8df0-a0d04115fb94",
   "metadata": {},
   "outputs": [
    {
     "data": {
      "text/plain": [
       "'SiddhiSiddhiSiddhi'"
      ]
     },
     "execution_count": 87,
     "metadata": {},
     "output_type": "execute_result"
    }
   ],
   "source": [
    "name1 * 3"
   ]
  },
  {
   "cell_type": "code",
   "execution_count": 88,
   "id": "df807c92-0924-46c6-905f-8c802709d22a",
   "metadata": {},
   "outputs": [],
   "source": [
    "# escape sequence"
   ]
  },
  {
   "cell_type": "code",
   "execution_count": 89,
   "id": "10c6eb7d-a1fc-4bcc-9613-ab11710033b9",
   "metadata": {},
   "outputs": [
    {
     "name": "stdout",
     "output_type": "stream",
     "text": [
      "Hello\n",
      "World\n"
     ]
    }
   ],
   "source": [
    "print('Hello\\nWorld')"
   ]
  },
  {
   "cell_type": "code",
   "execution_count": 90,
   "id": "2a3a96e1-543f-4d7d-9bbd-9f9f1c51b00f",
   "metadata": {},
   "outputs": [
    {
     "name": "stdout",
     "output_type": "stream",
     "text": [
      "Hello\tWorld\n"
     ]
    }
   ],
   "source": [
    "print('Hello\\tWorld')"
   ]
  },
  {
   "cell_type": "code",
   "execution_count": 91,
   "id": "29daa8d0-f5e7-442a-b4fa-fc36846ebc2e",
   "metadata": {},
   "outputs": [
    {
     "name": "stdout",
     "output_type": "stream",
     "text": [
      "Hello\\*World\n"
     ]
    }
   ],
   "source": [
    "print('Hello\\*World')"
   ]
  },
  {
   "cell_type": "code",
   "execution_count": 92,
   "id": "8ed62e84-cba1-4fb9-ac1e-4372566f12e0",
   "metadata": {},
   "outputs": [],
   "source": [
    "# doc string\n",
    "'''\n",
    "we can\n",
    "write\n",
    "anything \n",
    "in multiple \n",
    "lines\n",
    "''';"
   ]
  },
  {
   "cell_type": "code",
   "execution_count": 93,
   "id": "83145a7e-5476-4bf7-906a-8bdfb536ab48",
   "metadata": {},
   "outputs": [
    {
     "name": "stdout",
     "output_type": "stream",
     "text": [
      "this is 1st\n",
      "this is 2nd\n",
      "this is 3rd\n",
      "\n"
     ]
    }
   ],
   "source": [
    "print('''this is 1st\n",
    "this is 2nd\n",
    "this is 3rd\n",
    "''')"
   ]
  },
  {
   "cell_type": "code",
   "execution_count": 94,
   "id": "cc734325-d742-4a16-bc0f-62553622b3ea",
   "metadata": {},
   "outputs": [],
   "source": [
    "# ASCII"
   ]
  },
  {
   "cell_type": "code",
   "execution_count": 95,
   "id": "f27c1aa4-d024-422c-b795-f81afe025791",
   "metadata": {},
   "outputs": [
    {
     "data": {
      "text/plain": [
       "97"
      ]
     },
     "execution_count": 95,
     "metadata": {},
     "output_type": "execute_result"
    }
   ],
   "source": [
    "ord('a')"
   ]
  },
  {
   "cell_type": "code",
   "execution_count": 96,
   "id": "21a8b22e-ca91-4f77-8a8b-c6cc74bbd0a0",
   "metadata": {},
   "outputs": [
    {
     "data": {
      "text/plain": [
       "65"
      ]
     },
     "execution_count": 96,
     "metadata": {},
     "output_type": "execute_result"
    }
   ],
   "source": [
    "ord('A')"
   ]
  },
  {
   "cell_type": "code",
   "execution_count": 97,
   "id": "ae308ea6-0819-41ce-b687-4045986dc191",
   "metadata": {},
   "outputs": [
    {
     "data": {
      "text/plain": [
       "'z'"
      ]
     },
     "execution_count": 97,
     "metadata": {},
     "output_type": "execute_result"
    }
   ],
   "source": [
    "chr(122)"
   ]
  },
  {
   "cell_type": "code",
   "execution_count": 98,
   "id": "527fd55e-c00c-4009-b914-71a9d09e4a3a",
   "metadata": {},
   "outputs": [],
   "source": [
    "# print function\n",
    "\n",
    "name = 'Riya'\n",
    "marks = 71.66"
   ]
  },
  {
   "cell_type": "code",
   "execution_count": 99,
   "id": "6c1ac452-c83f-46b9-b4c6-ab3819ee0a1a",
   "metadata": {},
   "outputs": [
    {
     "name": "stdout",
     "output_type": "stream",
     "text": [
      "my name is Riya and marks are 71.66\n"
     ]
    }
   ],
   "source": [
    "# my name is Riya and marks are 71\n",
    "\n",
    "print('my name is', name, 'and marks are', marks)"
   ]
  },
  {
   "cell_type": "code",
   "execution_count": 100,
   "id": "6ac758f9-ad5a-4e4e-908f-3c6c25a5b770",
   "metadata": {},
   "outputs": [
    {
     "name": "stdout",
     "output_type": "stream",
     "text": [
      "my name is Riya and marks are 71.66\n"
     ]
    }
   ],
   "source": [
    "# formatted\n",
    "\n",
    "print('my name is %s and marks are %.2f' %(name, marks))"
   ]
  },
  {
   "cell_type": "code",
   "execution_count": 101,
   "id": "24e55aa0-a4f2-4539-9b51-3c413a969748",
   "metadata": {},
   "outputs": [],
   "source": [
    "city = 'Pune'"
   ]
  },
  {
   "cell_type": "code",
   "execution_count": 102,
   "id": "c0eef57f-7231-4680-82c6-88ed1191eb36",
   "metadata": {},
   "outputs": [
    {
     "name": "stdout",
     "output_type": "stream",
     "text": [
      "Riya 71.66 Pune\n"
     ]
    }
   ],
   "source": [
    "print(name, marks, city)"
   ]
  },
  {
   "cell_type": "code",
   "execution_count": 103,
   "id": "bf0ef2f5-7578-4253-99d7-11274441deb9",
   "metadata": {},
   "outputs": [
    {
     "name": "stdout",
     "output_type": "stream",
     "text": [
      "Riya\n",
      "71.66\n",
      "Pune\n"
     ]
    }
   ],
   "source": [
    "print(name, marks, city, sep ='\\n')"
   ]
  },
  {
   "cell_type": "code",
   "execution_count": 104,
   "id": "c5116d54-9406-4e7d-a479-e87689781a73",
   "metadata": {},
   "outputs": [
    {
     "name": "stdout",
     "output_type": "stream",
     "text": [
      "Riya\t71.66\tPune\n"
     ]
    }
   ],
   "source": [
    "print(name, marks, city, sep ='\\t')"
   ]
  },
  {
   "cell_type": "code",
   "execution_count": 105,
   "id": "5fdc5e93-c713-4876-a76e-24a713b3af70",
   "metadata": {},
   "outputs": [
    {
     "name": "stdout",
     "output_type": "stream",
     "text": [
      "Riya * 71.66 * Pune\n"
     ]
    }
   ],
   "source": [
    "print(name, marks, city, sep =' * ')"
   ]
  },
  {
   "cell_type": "code",
   "execution_count": 106,
   "id": "9f55b97d-f467-4fe8-9c8b-34c7aae22c98",
   "metadata": {},
   "outputs": [
    {
     "name": "stdout",
     "output_type": "stream",
     "text": [
      "Riya 71.66 Pune*"
     ]
    }
   ],
   "source": [
    "print(name, marks, city, end ='*')"
   ]
  },
  {
   "cell_type": "markdown",
   "id": "d4d7e816-4d37-4458-ab27-97107a79d837",
   "metadata": {},
   "source": [
    "ARITHMETIC OPERATORS"
   ]
  },
  {
   "cell_type": "code",
   "execution_count": 108,
   "id": "68f4f57d-01d7-4638-b82e-abf88e2cebdd",
   "metadata": {},
   "outputs": [],
   "source": [
    "num1 = 54.66\n",
    "num2 = 2"
   ]
  },
  {
   "cell_type": "code",
   "execution_count": 109,
   "id": "233ac22f-4326-4934-a06f-eff0400d87bd",
   "metadata": {},
   "outputs": [
    {
     "data": {
      "text/plain": [
       "56.66"
      ]
     },
     "execution_count": 109,
     "metadata": {},
     "output_type": "execute_result"
    }
   ],
   "source": [
    "num1 + num2\n"
   ]
  },
  {
   "cell_type": "code",
   "execution_count": 110,
   "id": "b7559573-4d1a-4735-ac14-cc3dc4b48e1b",
   "metadata": {},
   "outputs": [
    {
     "data": {
      "text/plain": [
       "52.66"
      ]
     },
     "execution_count": 110,
     "metadata": {},
     "output_type": "execute_result"
    }
   ],
   "source": [
    "num1 - num2\n"
   ]
  },
  {
   "cell_type": "code",
   "execution_count": 111,
   "id": "a2cd4e24-3617-46ad-982a-64e07b122c15",
   "metadata": {},
   "outputs": [
    {
     "data": {
      "text/plain": [
       "27.33"
      ]
     },
     "execution_count": 111,
     "metadata": {},
     "output_type": "execute_result"
    }
   ],
   "source": [
    "num1 / num2"
   ]
  },
  {
   "cell_type": "code",
   "execution_count": 112,
   "id": "e62c233b-5295-4555-927f-a697bedb0fb4",
   "metadata": {},
   "outputs": [
    {
     "data": {
      "text/plain": [
       "2987.7155999999995"
      ]
     },
     "execution_count": 112,
     "metadata": {},
     "output_type": "execute_result"
    }
   ],
   "source": [
    "num1 ** num2"
   ]
  },
  {
   "cell_type": "code",
   "execution_count": 113,
   "id": "6c07f24e-e756-4ad1-8a2c-d67dec3821c2",
   "metadata": {},
   "outputs": [
    {
     "data": {
      "text/plain": [
       "27.0"
      ]
     },
     "execution_count": 113,
     "metadata": {},
     "output_type": "execute_result"
    }
   ],
   "source": [
    "num1 // num2"
   ]
  },
  {
   "cell_type": "code",
   "execution_count": 114,
   "id": "ba538787-41de-4198-bb19-bddc59f20529",
   "metadata": {},
   "outputs": [
    {
     "data": {
      "text/plain": [
       "0.6599999999999966"
      ]
     },
     "execution_count": 114,
     "metadata": {},
     "output_type": "execute_result"
    }
   ],
   "source": [
    "num1 % num2"
   ]
  },
  {
   "cell_type": "markdown",
   "id": "29e1b6bc-3ea2-4d20-8f42-652cb3a7857f",
   "metadata": {},
   "source": [
    "RELATIONAL OPERATORS"
   ]
  },
  {
   "cell_type": "code",
   "execution_count": 115,
   "id": "80375481-d3b5-45be-b0bb-350fa2806fb1",
   "metadata": {},
   "outputs": [
    {
     "data": {
      "text/plain": [
       "True"
      ]
     },
     "execution_count": 115,
     "metadata": {},
     "output_type": "execute_result"
    }
   ],
   "source": [
    "num1 > num2"
   ]
  },
  {
   "cell_type": "code",
   "execution_count": 116,
   "id": "2227af5a-5732-4209-9654-2a431d3fbe7d",
   "metadata": {},
   "outputs": [
    {
     "data": {
      "text/plain": [
       "False"
      ]
     },
     "execution_count": 116,
     "metadata": {},
     "output_type": "execute_result"
    }
   ],
   "source": [
    "num1 <= num2"
   ]
  },
  {
   "cell_type": "code",
   "execution_count": 117,
   "id": "a59aeedd-0e19-476d-bc78-78514c32f286",
   "metadata": {},
   "outputs": [
    {
     "data": {
      "text/plain": [
       "False"
      ]
     },
     "execution_count": 117,
     "metadata": {},
     "output_type": "execute_result"
    }
   ],
   "source": [
    "num1 == num2"
   ]
  },
  {
   "cell_type": "code",
   "execution_count": 118,
   "id": "fe9a471a-ae80-4279-add5-e814ba79b4ff",
   "metadata": {},
   "outputs": [
    {
     "data": {
      "text/plain": [
       "True"
      ]
     },
     "execution_count": 118,
     "metadata": {},
     "output_type": "execute_result"
    }
   ],
   "source": [
    "num1 != num2"
   ]
  },
  {
   "cell_type": "markdown",
   "id": "d11941c9-920e-4d8a-92b1-e5f515dc0549",
   "metadata": {},
   "source": [
    "ASSIGNMENT OPERATORS"
   ]
  },
  {
   "cell_type": "code",
   "execution_count": 119,
   "id": "20251018-8876-47d8-8946-b955e2d979b9",
   "metadata": {},
   "outputs": [],
   "source": [
    "num1 = 45"
   ]
  },
  {
   "cell_type": "code",
   "execution_count": 120,
   "id": "c9d0a80f-4883-4284-88f8-284b99ab3c53",
   "metadata": {},
   "outputs": [],
   "source": [
    "num1 += 50    # num1 = num1 + 50"
   ]
  },
  {
   "cell_type": "code",
   "execution_count": 121,
   "id": "6059e76b-4472-4dae-8793-5da821eed800",
   "metadata": {},
   "outputs": [
    {
     "data": {
      "text/plain": [
       "95"
      ]
     },
     "execution_count": 121,
     "metadata": {},
     "output_type": "execute_result"
    }
   ],
   "source": [
    "num1"
   ]
  },
  {
   "cell_type": "code",
   "execution_count": 122,
   "id": "133acb52-6ba1-4e94-851b-640ed56023cf",
   "metadata": {},
   "outputs": [],
   "source": [
    "num1 -= 45"
   ]
  },
  {
   "cell_type": "code",
   "execution_count": 123,
   "id": "7aaa0b95-1156-4d03-b3cf-6412b1b18a6f",
   "metadata": {},
   "outputs": [
    {
     "data": {
      "text/plain": [
       "50"
      ]
     },
     "execution_count": 123,
     "metadata": {},
     "output_type": "execute_result"
    }
   ],
   "source": [
    "num1"
   ]
  },
  {
   "cell_type": "markdown",
   "id": "3d17d2e5-9cf1-477e-916e-4a05b54d027b",
   "metadata": {},
   "source": [
    "LOGICAL OPERATORS"
   ]
  },
  {
   "cell_type": "code",
   "execution_count": 124,
   "id": "f9488f7f-dde5-4b3b-9d07-cfa9c78acef7",
   "metadata": {},
   "outputs": [
    {
     "data": {
      "text/plain": [
       "False"
      ]
     },
     "execution_count": 124,
     "metadata": {},
     "output_type": "execute_result"
    }
   ],
   "source": [
    "num1 < num2 and num1 > 0"
   ]
  },
  {
   "cell_type": "code",
   "execution_count": 125,
   "id": "64e41118-c279-4615-a033-9f2209f394e4",
   "metadata": {},
   "outputs": [
    {
     "data": {
      "text/plain": [
       "True"
      ]
     },
     "execution_count": 125,
     "metadata": {},
     "output_type": "execute_result"
    }
   ],
   "source": [
    "num1 < num2 or num1 > 0"
   ]
  },
  {
   "cell_type": "code",
   "execution_count": 126,
   "id": "2b261cf9-d90c-4a5f-b808-bc70371476e8",
   "metadata": {},
   "outputs": [],
   "source": [
    "# membership selection"
   ]
  },
  {
   "cell_type": "code",
   "execution_count": 127,
   "id": "8756cc64-a70f-4857-a4ae-f967e6377b31",
   "metadata": {},
   "outputs": [
    {
     "data": {
      "text/plain": [
       "'Riya'"
      ]
     },
     "execution_count": 127,
     "metadata": {},
     "output_type": "execute_result"
    }
   ],
   "source": [
    "name"
   ]
  },
  {
   "cell_type": "code",
   "execution_count": 129,
   "id": "4572839a-8683-4bb3-a419-bc272f52bac0",
   "metadata": {},
   "outputs": [
    {
     "data": {
      "text/plain": [
       "True"
      ]
     },
     "execution_count": 129,
     "metadata": {},
     "output_type": "execute_result"
    }
   ],
   "source": [
    "'i' in name"
   ]
  },
  {
   "cell_type": "code",
   "execution_count": 130,
   "id": "70ab6b9f-a0b7-47b6-96a9-6907f5337e26",
   "metadata": {},
   "outputs": [
    {
     "data": {
      "text/plain": [
       "False"
      ]
     },
     "execution_count": 130,
     "metadata": {},
     "output_type": "execute_result"
    }
   ],
   "source": [
    "'i' not in name"
   ]
  },
  {
   "cell_type": "code",
   "execution_count": 131,
   "id": "f72b96a1-4120-4fae-9163-df64f75118de",
   "metadata": {},
   "outputs": [],
   "source": [
    "# type casting"
   ]
  },
  {
   "cell_type": "code",
   "execution_count": 132,
   "id": "dd3957f3-3563-4a6d-80a7-cf83f486ae79",
   "metadata": {},
   "outputs": [],
   "source": [
    "num1 = 34\n",
    "num2 = 33.12"
   ]
  },
  {
   "cell_type": "code",
   "execution_count": 133,
   "id": "628a9a21-a7f2-43ba-afd4-d718de961a07",
   "metadata": {},
   "outputs": [
    {
     "data": {
      "text/plain": [
       "67.12"
      ]
     },
     "execution_count": 133,
     "metadata": {},
     "output_type": "execute_result"
    }
   ],
   "source": [
    "num1 + num2"
   ]
  },
  {
   "cell_type": "code",
   "execution_count": 134,
   "id": "68a48e02-bcf5-41b0-8195-fed5a4e244a2",
   "metadata": {},
   "outputs": [
    {
     "data": {
      "text/plain": [
       "67"
      ]
     },
     "execution_count": 134,
     "metadata": {},
     "output_type": "execute_result"
    }
   ],
   "source": [
    "num1 + int(num2)"
   ]
  },
  {
   "cell_type": "code",
   "execution_count": 135,
   "id": "2baf249a-e254-41cb-9fb4-3d2683d442fa",
   "metadata": {},
   "outputs": [],
   "source": [
    "num3 = '1234'"
   ]
  },
  {
   "cell_type": "code",
   "execution_count": 136,
   "id": "b671ba85-8316-4169-af82-dfcdeb202f12",
   "metadata": {},
   "outputs": [
    {
     "data": {
      "text/plain": [
       "'123412341234'"
      ]
     },
     "execution_count": 136,
     "metadata": {},
     "output_type": "execute_result"
    }
   ],
   "source": [
    "num3 * 3"
   ]
  },
  {
   "cell_type": "code",
   "execution_count": 137,
   "id": "f29317c5-593c-4c12-8a15-51ba4637ada4",
   "metadata": {},
   "outputs": [
    {
     "data": {
      "text/plain": [
       "3702"
      ]
     },
     "execution_count": 137,
     "metadata": {},
     "output_type": "execute_result"
    }
   ],
   "source": [
    "int(num3) * 3"
   ]
  },
  {
   "cell_type": "code",
   "execution_count": 138,
   "id": "43c60bea-98a5-49d9-800b-4fc149f270ca",
   "metadata": {},
   "outputs": [],
   "source": [
    "name = 'Aman'\n",
    "num1 = 67"
   ]
  },
  {
   "cell_type": "code",
   "execution_count": 139,
   "id": "4e645141-bb31-4b6c-bb33-7e43483f3a5a",
   "metadata": {},
   "outputs": [],
   "source": [
    "# my password is Aman67"
   ]
  },
  {
   "cell_type": "code",
   "execution_count": 140,
   "id": "4e6b6dfe-bb14-40dc-9567-8f35ba74fe3a",
   "metadata": {},
   "outputs": [
    {
     "data": {
      "text/plain": [
       "'Aman67'"
      ]
     },
     "execution_count": 140,
     "metadata": {},
     "output_type": "execute_result"
    }
   ],
   "source": [
    "name + str(num1)"
   ]
  },
  {
   "cell_type": "code",
   "execution_count": 141,
   "id": "3e19f0ed-b608-4b48-8b76-1fa62411333d",
   "metadata": {},
   "outputs": [],
   "source": [
    "# user input"
   ]
  },
  {
   "cell_type": "code",
   "execution_count": 142,
   "id": "f60d3d22-b09f-4c44-a84c-57058fc5fb82",
   "metadata": {},
   "outputs": [
    {
     "name": "stdout",
     "output_type": "stream",
     "text": [
      "105\n"
     ]
    }
   ],
   "source": [
    "num1 = 45\n",
    "num2 = 60\n",
    "result = num1 + num2\n",
    "print(result)"
   ]
  },
  {
   "cell_type": "code",
   "execution_count": 143,
   "id": "c0fb9d0e-b1d7-4607-8a4d-4cbbc2dff38d",
   "metadata": {},
   "outputs": [
    {
     "name": "stdin",
     "output_type": "stream",
     "text": [
      "Enter the 1st number  10\n",
      "Enter the 2nd number  20\n"
     ]
    },
    {
     "name": "stdout",
     "output_type": "stream",
     "text": [
      "Addition is:  30\n"
     ]
    }
   ],
   "source": [
    "num1 = int(input('Enter the 1st number '))\n",
    "num2 = int(input('Enter the 2nd number '))\n",
    "\n",
    "Add = num1 + num2\n",
    "print('Addition is: ', Add)"
   ]
  },
  {
   "cell_type": "code",
   "execution_count": 144,
   "id": "445ed6db-acde-4bff-a310-6cd0e5c67e89",
   "metadata": {},
   "outputs": [
    {
     "name": "stdin",
     "output_type": "stream",
     "text": [
      "Enter the string  Siddhi\n",
      "Enter the number of repeatation  3\n"
     ]
    },
    {
     "name": "stdout",
     "output_type": "stream",
     "text": [
      "SiddhiSiddhiSiddhi\n"
     ]
    }
   ],
   "source": [
    "# write a program to repeat a string take user input\n",
    "\n",
    "in1 = input('Enter the string ')\n",
    "in2 = int(input('Enter the number of repeatation '))\n",
    "\n",
    "print(in1 * in2)"
   ]
  },
  {
   "cell_type": "code",
   "execution_count": 145,
   "id": "01c8447c-19bd-4993-a23d-7b1caca22b7b",
   "metadata": {},
   "outputs": [
    {
     "name": "stdin",
     "output_type": "stream",
     "text": [
      "Enter the base  10\n",
      "Enter the height  20\n"
     ]
    },
    {
     "name": "stdout",
     "output_type": "stream",
     "text": [
      "Area of a triangle is  100.0\n"
     ]
    }
   ],
   "source": [
    "'''Take base and height of the traingle as input and \n",
    "find the area of it.''';\n",
    "\n",
    "base = float(input('Enter the base '))\n",
    "height = float(input('Enter the height '))\n",
    "\n",
    "print('Area of a triangle is ', 0.5 * base * height)"
   ]
  },
  {
   "cell_type": "code",
   "execution_count": 146,
   "id": "bfd4ff2e-9db6-4182-b7ce-a1c5448b4460",
   "metadata": {},
   "outputs": [
    {
     "name": "stdin",
     "output_type": "stream",
     "text": [
      "Enter the number of seconds  3490\n"
     ]
    },
    {
     "name": "stdout",
     "output_type": "stream",
     "text": [
      "Conversion is  0 : 58 : 10\n"
     ]
    }
   ],
   "source": [
    "'''\n",
    "take seconds as user input\n",
    "covert to hour:min:sec format\n",
    "ex.... 3665 sec => 1:01:05\n",
    "'''\n",
    "\n",
    "sec = int(input('Enter the number of seconds '))\n",
    "\n",
    "hours = sec // 3600\n",
    "\n",
    "rem_sec = sec % 3600\n",
    "minute = rem_sec // 60\n",
    "\n",
    "\n",
    "seconds = rem_sec % 60\n",
    "\n",
    "\n",
    "print('Conversion is ', hours,':',minute,':',seconds)"
   ]
  },
  {
   "cell_type": "code",
   "execution_count": null,
   "id": "0254e86d-80da-4a2d-8109-292583bdafa6",
   "metadata": {},
   "outputs": [],
   "source": []
  }
 ],
 "metadata": {
  "kernelspec": {
   "display_name": "Python 3 (ipykernel)",
   "language": "python",
   "name": "python3"
  },
  "language_info": {
   "codemirror_mode": {
    "name": "ipython",
    "version": 3
   },
   "file_extension": ".py",
   "mimetype": "text/x-python",
   "name": "python",
   "nbconvert_exporter": "python",
   "pygments_lexer": "ipython3",
   "version": "3.11.7"
  }
 },
 "nbformat": 4,
 "nbformat_minor": 5
}
