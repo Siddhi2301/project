{
 "cells": [
  {
   "cell_type": "code",
   "execution_count": 3,
   "id": "d6543f75-1ad9-4205-a6ff-10784b48d834",
   "metadata": {},
   "outputs": [
    {
     "ename": "FileNotFoundError",
     "evalue": "[Errno 2] No such file or directory: 'all.txt'",
     "output_type": "error",
     "traceback": [
      "\u001b[1;31m---------------------------------------------------------------------------\u001b[0m",
      "\u001b[1;31mFileNotFoundError\u001b[0m                         Traceback (most recent call last)",
      "Cell \u001b[1;32mIn[3], line 1\u001b[0m\n\u001b[1;32m----> 1\u001b[0m f \u001b[38;5;241m=\u001b[39m \u001b[38;5;28mopen\u001b[39m(\u001b[38;5;124m'\u001b[39m\u001b[38;5;124mall.txt\u001b[39m\u001b[38;5;124m'\u001b[39m)\n",
      "File \u001b[1;32m~\\OneDrive\\Documents\\anaconda3\\Lib\\site-packages\\IPython\\core\\interactiveshell.py:310\u001b[0m, in \u001b[0;36m_modified_open\u001b[1;34m(file, *args, **kwargs)\u001b[0m\n\u001b[0;32m    303\u001b[0m \u001b[38;5;28;01mif\u001b[39;00m file \u001b[38;5;129;01min\u001b[39;00m {\u001b[38;5;241m0\u001b[39m, \u001b[38;5;241m1\u001b[39m, \u001b[38;5;241m2\u001b[39m}:\n\u001b[0;32m    304\u001b[0m     \u001b[38;5;28;01mraise\u001b[39;00m \u001b[38;5;167;01mValueError\u001b[39;00m(\n\u001b[0;32m    305\u001b[0m         \u001b[38;5;124mf\u001b[39m\u001b[38;5;124m\"\u001b[39m\u001b[38;5;124mIPython won\u001b[39m\u001b[38;5;124m'\u001b[39m\u001b[38;5;124mt let you open fd=\u001b[39m\u001b[38;5;132;01m{\u001b[39;00mfile\u001b[38;5;132;01m}\u001b[39;00m\u001b[38;5;124m by default \u001b[39m\u001b[38;5;124m\"\u001b[39m\n\u001b[0;32m    306\u001b[0m         \u001b[38;5;124m\"\u001b[39m\u001b[38;5;124mas it is likely to crash IPython. If you know what you are doing, \u001b[39m\u001b[38;5;124m\"\u001b[39m\n\u001b[0;32m    307\u001b[0m         \u001b[38;5;124m\"\u001b[39m\u001b[38;5;124myou can use builtins\u001b[39m\u001b[38;5;124m'\u001b[39m\u001b[38;5;124m open.\u001b[39m\u001b[38;5;124m\"\u001b[39m\n\u001b[0;32m    308\u001b[0m     )\n\u001b[1;32m--> 310\u001b[0m \u001b[38;5;28;01mreturn\u001b[39;00m io_open(file, \u001b[38;5;241m*\u001b[39margs, \u001b[38;5;241m*\u001b[39m\u001b[38;5;241m*\u001b[39mkwargs)\n",
      "\u001b[1;31mFileNotFoundError\u001b[0m: [Errno 2] No such file or directory: 'all.txt'"
     ]
    }
   ],
   "source": [
    "f = open('all.txt')"
   ]
  },
  {
   "cell_type": "code",
   "execution_count": 5,
   "id": "412153e9-5781-4e92-b90f-94af7ddf81df",
   "metadata": {},
   "outputs": [
    {
     "name": "stdout",
     "output_type": "stream",
     "text": [
      "File is not there\n"
     ]
    }
   ],
   "source": [
    "try:\n",
    "    f = open('all.txt')\n",
    "except Exception:\n",
    "    print('File is not there')"
   ]
  },
  {
   "cell_type": "code",
   "execution_count": 7,
   "id": "2bb36739-97b3-407a-b394-617d80853cf7",
   "metadata": {},
   "outputs": [
    {
     "name": "stdout",
     "output_type": "stream",
     "text": [
      "File is not there\n"
     ]
    }
   ],
   "source": [
    "try:\n",
    "    f = open('all.txt')\n",
    "    var = var1\n",
    "except Exception:\n",
    "    print('File is not there')"
   ]
  },
  {
   "cell_type": "code",
   "execution_count": 9,
   "id": "34ef9c9a-5392-49ac-954c-2b3c3d97b51b",
   "metadata": {},
   "outputs": [
    {
     "name": "stdout",
     "output_type": "stream",
     "text": [
      "File is not there\n"
     ]
    }
   ],
   "source": [
    "try:\n",
    "    f = open('test1.txt')\n",
    "    var = var1\n",
    "except Exception:\n",
    "    print('File is not there')"
   ]
  },
  {
   "cell_type": "code",
   "execution_count": 11,
   "id": "969d6854-6a9e-4764-acff-7e7baac847d5",
   "metadata": {},
   "outputs": [
    {
     "name": "stdout",
     "output_type": "stream",
     "text": [
      "File is not there\n"
     ]
    }
   ],
   "source": [
    "try:\n",
    "    f = open('test1.txt')\n",
    "    var = var\n",
    "except FileNotFoundError:\n",
    "    print('File is not there')"
   ]
  },
  {
   "cell_type": "code",
   "execution_count": 13,
   "id": "aaf65588-1431-4839-b3d1-bae4968dde2a",
   "metadata": {},
   "outputs": [
    {
     "name": "stdout",
     "output_type": "stream",
     "text": [
      "File is not there\n"
     ]
    }
   ],
   "source": [
    "try:\n",
    "    f = open('test1.txt')\n",
    "    var = var\n",
    "except FileNotFoundError:\n",
    "    print('File is not there')\n",
    "except NameError:\n",
    "    print('Something went wrong')"
   ]
  },
  {
   "cell_type": "code",
   "execution_count": 15,
   "id": "7362a927-fce6-43f1-8a9e-bb327ff7d921",
   "metadata": {},
   "outputs": [
    {
     "name": "stdout",
     "output_type": "stream",
     "text": [
      "File is not there\n"
     ]
    }
   ],
   "source": [
    "try:\n",
    "    f = open('test1.txt')\n",
    "    var = var\n",
    "except FileNotFoundError:\n",
    "    print('File is not there')\n",
    "except Exception as e:\n",
    "    print(e)"
   ]
  },
  {
   "cell_type": "code",
   "execution_count": 17,
   "id": "8dfb98da-a458-4070-b50c-fb49c7a3c219",
   "metadata": {},
   "outputs": [
    {
     "name": "stdout",
     "output_type": "stream",
     "text": [
      "File is not there\n"
     ]
    }
   ],
   "source": [
    "try:\n",
    "    f = open('test1.txt')\n",
    "except FileNotFoundError:\n",
    "    print('File is not there')\n",
    "else:                        # will execute if we are not getting an error in try\n",
    "    print(f.read())\n",
    "    f.close()"
   ]
  },
  {
   "cell_type": "code",
   "execution_count": 19,
   "id": "5f4112b7-7004-412a-bb10-4758aa24f4a2",
   "metadata": {},
   "outputs": [
    {
     "name": "stdout",
     "output_type": "stream",
     "text": [
      "File is not there\n",
      "Finally\n"
     ]
    }
   ],
   "source": [
    "try:\n",
    "    f = open('test10.txt')\n",
    "except FileNotFoundError:\n",
    "    print('File is not there')\n",
    "else:                        \n",
    "    print('ok')\n",
    "finally:\n",
    "    print('Finally')"
   ]
  },
  {
   "cell_type": "code",
   "execution_count": 21,
   "id": "291d3426-a3d2-43ed-8cc9-5d5b12c2b237",
   "metadata": {},
   "outputs": [
    {
     "name": "stdout",
     "output_type": "stream",
     "text": [
      "File is not there\n",
      "Finally\n"
     ]
    }
   ],
   "source": [
    "try:\n",
    "    f = open('test1.txt')\n",
    "except FileNotFoundError:\n",
    "    print('File is not there')\n",
    "else:                        \n",
    "    print('ok')\n",
    "finally:\n",
    "    print('Finally')"
   ]
  },
  {
   "cell_type": "code",
   "execution_count": null,
   "id": "d52e9b25-9bb2-4736-b19a-9b85fa3b6842",
   "metadata": {},
   "outputs": [],
   "source": []
  }
 ],
 "metadata": {
  "kernelspec": {
   "display_name": "Python 3 (ipykernel)",
   "language": "python",
   "name": "python3"
  },
  "language_info": {
   "codemirror_mode": {
    "name": "ipython",
    "version": 3
   },
   "file_extension": ".py",
   "mimetype": "text/x-python",
   "name": "python",
   "nbconvert_exporter": "python",
   "pygments_lexer": "ipython3",
   "version": "3.11.7"
  }
 },
 "nbformat": 4,
 "nbformat_minor": 5
}
