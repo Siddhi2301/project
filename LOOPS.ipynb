{
 "cells": [
  {
   "cell_type": "code",
   "execution_count": 1,
   "id": "4c557eb8-1f54-4b0e-b0e3-2d2851b3a798",
   "metadata": {},
   "outputs": [
    {
     "name": "stdout",
     "output_type": "stream",
     "text": [
      "Siddhi\n",
      "Siddhi\n",
      "Siddhi\n",
      "Siddhi\n",
      "Siddhi\n"
     ]
    }
   ],
   "source": [
    "count = 1\n",
    "\n",
    "while count <= 5:\n",
    "    print('Siddhi')\n",
    "    count = count + 1"
   ]
  },
  {
   "cell_type": "code",
   "execution_count": 2,
   "id": "ad9022ce-a8c0-4a6e-a5f9-a4f2ab9573a8",
   "metadata": {},
   "outputs": [
    {
     "name": "stdout",
     "output_type": "stream",
     "text": [
      "5 6 7 8 9 10 11 12 13 14 15 Goodbye!!!\n"
     ]
    }
   ],
   "source": [
    "# print numbers from 5 to 15\n",
    "\n",
    "count = 5\n",
    "\n",
    "while count <= 15:\n",
    "    print(count, end = ' ')\n",
    "    count += 1\n",
    "    \n",
    "print('Goodbye!!!')"
   ]
  },
  {
   "cell_type": "code",
   "execution_count": 3,
   "id": "2e5071ca-d4b2-4358-92f1-e912addfe7b3",
   "metadata": {},
   "outputs": [
    {
     "name": "stdout",
     "output_type": "stream",
     "text": [
      "16\n"
     ]
    }
   ],
   "source": [
    "print(count)"
   ]
  },
  {
   "cell_type": "code",
   "execution_count": 4,
   "id": "9ac9da6d-635e-46c4-ba3e-4927e7a95c3c",
   "metadata": {},
   "outputs": [
    {
     "name": "stdout",
     "output_type": "stream",
     "text": [
      "Addition is: 55\n"
     ]
    }
   ],
   "source": [
    "# print the addition of numbers from 1 to 10\n",
    "\n",
    "count = 1\n",
    "add = 0\n",
    "\n",
    "while count <= 10:\n",
    "    add = add + count\n",
    "    count += 1\n",
    "    \n",
    "print('Addition is:', add)"
   ]
  },
  {
   "cell_type": "code",
   "execution_count": 5,
   "id": "f8920803-014b-4c1d-926c-42d0510097a5",
   "metadata": {},
   "outputs": [
    {
     "name": "stdout",
     "output_type": "stream",
     "text": [
      "11\n"
     ]
    }
   ],
   "source": [
    "print(count)"
   ]
  },
  {
   "cell_type": "code",
   "execution_count": 6,
   "id": "9f2514b8-bfa5-45e7-a37f-3c3826651260",
   "metadata": {},
   "outputs": [
    {
     "name": "stdout",
     "output_type": "stream",
     "text": [
      "Addition is: 100\n"
     ]
    }
   ],
   "source": [
    "# print the addition of all odd numbers from 1 to 20\n",
    "\n",
    "count = 1\n",
    "add = 0\n",
    "\n",
    "while count <= 20:\n",
    "    add = add + count\n",
    "    count += 2\n",
    "    \n",
    "print('Addition is:', add)"
   ]
  },
  {
   "cell_type": "code",
   "execution_count": 7,
   "id": "df052fd5-2fc0-46a4-bdca-29ed8e1f39f0",
   "metadata": {},
   "outputs": [
    {
     "name": "stdout",
     "output_type": "stream",
     "text": [
      "Factorial is: 120\n"
     ]
    }
   ],
   "source": [
    "# factorial => 5! => 5 * 4 * 3 * 2 * 1 = 120\n",
    "\n",
    "num = 1\n",
    "\n",
    "fact = 1\n",
    "\n",
    "while num <= 5:\n",
    "    fact = fact * num\n",
    "    num +=1\n",
    "    \n",
    "print('Factorial is:', fact)"
   ]
  },
  {
   "cell_type": "code",
   "execution_count": 8,
   "id": "74c5dfac-6bce-4479-b965-2f630e8f28d2",
   "metadata": {},
   "outputs": [
    {
     "name": "stdin",
     "output_type": "stream",
     "text": [
      "Enter the number  4\n"
     ]
    },
    {
     "name": "stdout",
     "output_type": "stream",
     "text": [
      "factorial is: 24\n"
     ]
    }
   ],
   "source": [
    "num = int(input('Enter the number '))\n",
    "fact = 1\n",
    "\n",
    "while num > 1:\n",
    "    fact = fact * num\n",
    "    num -= 1\n",
    "    \n",
    "print('factorial is:', fact)"
   ]
  },
  {
   "cell_type": "code",
   "execution_count": 9,
   "id": "ce6e5bf3-f6a8-4f6c-aae6-8084c1f8fd73",
   "metadata": {},
   "outputs": [
    {
     "name": "stdin",
     "output_type": "stream",
     "text": [
      "Enter the number  5\n"
     ]
    },
    {
     "name": "stdout",
     "output_type": "stream",
     "text": [
      "Loop ended\n",
      "factorial is: 120\n"
     ]
    }
   ],
   "source": [
    "# else\n",
    "\n",
    "num = int(input('Enter the number '))\n",
    "fact = 1\n",
    "\n",
    "while num > 1:\n",
    "    fact = fact * num\n",
    "    num -= 1\n",
    "else:\n",
    "    print('Loop ended')\n",
    "    \n",
    "print('factorial is:', fact)"
   ]
  },
  {
   "cell_type": "code",
   "execution_count": 10,
   "id": "b718a906-02f8-4c25-b0c0-9f8bd1fea1f9",
   "metadata": {},
   "outputs": [],
   "source": [
    "'''# infinite loop\n",
    "\n",
    "num = 2\n",
    "\n",
    "while num > 1:\n",
    "    print(num)\n",
    "    num += 1''';"
   ]
  },
  {
   "cell_type": "code",
   "execution_count": 11,
   "id": "bb1a0fd2-0590-4cc2-8838-e96c2c422106",
   "metadata": {},
   "outputs": [],
   "source": [
    "'''while True:\n",
    "    print('a')\n",
    "    ''';"
   ]
  },
  {
   "cell_type": "code",
   "execution_count": 12,
   "id": "17c1ed2d-2078-4ac7-9e16-a85c1aa8ece3",
   "metadata": {},
   "outputs": [
    {
     "data": {
      "text/plain": [
       "4"
      ]
     },
     "execution_count": 12,
     "metadata": {},
     "output_type": "execute_result"
    }
   ],
   "source": [
    "num = 12345\n",
    "\n",
    "num % 10\n",
    "a = num // 10\n",
    "a % 10"
   ]
  },
  {
   "cell_type": "code",
   "execution_count": 13,
   "id": "814378db-25ae-476b-b3ab-a0876aadedcd",
   "metadata": {},
   "outputs": [
    {
     "name": "stdin",
     "output_type": "stream",
     "text": [
      "Enter the number 2456\n"
     ]
    },
    {
     "name": "stdout",
     "output_type": "stream",
     "text": [
      "addtion of digits is: 17\n"
     ]
    }
   ],
   "source": [
    "# find the sum of digits in a number\n",
    "# 12345 => 1 + 2 + 3 + 4 + 5 = 15\n",
    "\n",
    "num = int(input('Enter the number'))\n",
    "\n",
    "add = 0\n",
    "\n",
    "while num > 0:\n",
    "    rem = num % 10\n",
    "    add = add + rem\n",
    "    num = num // 10\n",
    "\n",
    "print('addtion of digits is:', add)"
   ]
  },
  {
   "cell_type": "markdown",
   "id": "1866e8ce-43a7-457e-a2b2-a5289cb4f541",
   "metadata": {},
   "source": [
    "FOR LOOP"
   ]
  },
  {
   "cell_type": "code",
   "execution_count": 14,
   "id": "b7f78b40-2ea4-4664-a8d1-1062501245f5",
   "metadata": {},
   "outputs": [
    {
     "name": "stdout",
     "output_type": "stream",
     "text": [
      "12\n",
      "34\n",
      "45\n",
      "21\n"
     ]
    }
   ],
   "source": [
    "for n in 12, 34, 45, 21:\n",
    "    print(n)"
   ]
  },
  {
   "cell_type": "code",
   "execution_count": 15,
   "id": "0f09e882-69c8-43b4-8663-4be20f5db3b8",
   "metadata": {},
   "outputs": [
    {
     "name": "stdout",
     "output_type": "stream",
     "text": [
      "12\n",
      "34\n",
      "45\n",
      "21\n",
      "Adi\n",
      "True\n"
     ]
    }
   ],
   "source": [
    "for n in 12, 34, 45, 21, 'Adi', True:\n",
    "    print(n)"
   ]
  },
  {
   "cell_type": "code",
   "execution_count": 16,
   "id": "97d70416-d104-4df8-b4e6-890768348fa7",
   "metadata": {},
   "outputs": [
    {
     "name": "stdout",
     "output_type": "stream",
     "text": [
      "6.0\n",
      "17.0\n",
      "22.5\n",
      "10.5\n"
     ]
    }
   ],
   "source": [
    "for n in 12, 34, 45, 21:\n",
    "    print(n/2)"
   ]
  },
  {
   "cell_type": "code",
   "execution_count": 17,
   "id": "d79a0d8f-2e43-43e4-a77b-6a1cc5ee42c1",
   "metadata": {},
   "outputs": [],
   "source": [
    "# range function"
   ]
  },
  {
   "cell_type": "code",
   "execution_count": 18,
   "id": "a846042d-e0ae-40b8-958b-75c98f70620d",
   "metadata": {},
   "outputs": [
    {
     "data": {
      "text/plain": [
       "[0, 1, 2, 3, 4]"
      ]
     },
     "execution_count": 18,
     "metadata": {},
     "output_type": "execute_result"
    }
   ],
   "source": [
    "list(range(5))"
   ]
  },
  {
   "cell_type": "code",
   "execution_count": 19,
   "id": "f51f7258-b34b-454e-9c15-fac81bd62c6b",
   "metadata": {},
   "outputs": [
    {
     "data": {
      "text/plain": [
       "[5, 6, 7, 8, 9, 10, 11, 12, 13, 14, 15, 16, 17, 18, 19]"
      ]
     },
     "execution_count": 19,
     "metadata": {},
     "output_type": "execute_result"
    }
   ],
   "source": [
    "list(range(5, 20))"
   ]
  },
  {
   "cell_type": "code",
   "execution_count": 20,
   "id": "e724b2f9-094c-471b-a8a0-96117f41a9a7",
   "metadata": {},
   "outputs": [
    {
     "data": {
      "text/plain": [
       "[5, 7, 9, 11, 13, 15, 17, 19]"
      ]
     },
     "execution_count": 20,
     "metadata": {},
     "output_type": "execute_result"
    }
   ],
   "source": [
    "list(range(5,20,2))"
   ]
  },
  {
   "cell_type": "code",
   "execution_count": 21,
   "id": "1049d687-0339-43bd-99d6-670fb78d43ce",
   "metadata": {},
   "outputs": [],
   "source": [
    "# range(start, end + 1, step)"
   ]
  },
  {
   "cell_type": "code",
   "execution_count": 22,
   "id": "4e95dc57-d5ac-4444-bcbb-e0b6f3fa643d",
   "metadata": {},
   "outputs": [
    {
     "name": "stdout",
     "output_type": "stream",
     "text": [
      "1 2 3 4 5 6 7 8 9 10 "
     ]
    }
   ],
   "source": [
    "for n in range(1,11):\n",
    "    print(n, end = ' ')"
   ]
  },
  {
   "cell_type": "code",
   "execution_count": 23,
   "id": "d88ed64d-2da1-4356-b459-047b5e31a5ae",
   "metadata": {},
   "outputs": [
    {
     "name": "stdout",
     "output_type": "stream",
     "text": [
      "Addition 100\n"
     ]
    }
   ],
   "source": [
    "# addition of odd numbers from 1 to 20\n",
    "\n",
    "add = 0\n",
    "\n",
    "for n in range(1,21,2):\n",
    "    add = add + n\n",
    "    \n",
    "print('Addition', add)"
   ]
  },
  {
   "cell_type": "code",
   "execution_count": 25,
   "id": "c2c95446-0719-4ee2-81e3-9f9bb781bc0f",
   "metadata": {},
   "outputs": [
    {
     "name": "stdout",
     "output_type": "stream",
     "text": [
      "Siddhi Siddhi Siddhi Siddhi Siddhi Siddhi Siddhi Siddhi Siddhi Siddhi "
     ]
    }
   ],
   "source": [
    "for n in range(10):\n",
    "    print('Siddhi', end = ' ')"
   ]
  },
  {
   "cell_type": "code",
   "execution_count": 26,
   "id": "b76c93c1-3567-4597-ab5b-ee8bd762949b",
   "metadata": {},
   "outputs": [
    {
     "name": "stdout",
     "output_type": "stream",
     "text": [
      "SSS\n",
      "iii\n",
      "ddd\n",
      "ddd\n",
      "hhh\n",
      "iii\n"
     ]
    }
   ],
   "source": [
    "for n in 'Siddhi':\n",
    "    print(n * 3)"
   ]
  },
  {
   "cell_type": "code",
   "execution_count": 27,
   "id": "8510b63e-f05b-4f8e-a02d-c280f6efb709",
   "metadata": {},
   "outputs": [
    {
     "name": "stdout",
     "output_type": "stream",
     "text": [
      "Tanvi\n",
      "Ganesh\n"
     ]
    }
   ],
   "source": [
    "for n in 'Tanvi', 'Ganesh':\n",
    "    print(n)"
   ]
  },
  {
   "cell_type": "code",
   "execution_count": 28,
   "id": "ecddf5db-ef33-43cb-b163-de1b8d0a84ef",
   "metadata": {},
   "outputs": [
    {
     "name": "stdout",
     "output_type": "stream",
     "text": [
      "23\n",
      "45\n",
      "32\n",
      "21\n",
      "67\n",
      "Loop ended\n"
     ]
    }
   ],
   "source": [
    "l = [23, 45, 32, 21, 67]\n",
    "\n",
    "for n in l:\n",
    "    print(n)\n",
    "else:\n",
    "    print('Loop ended')"
   ]
  },
  {
   "cell_type": "code",
   "execution_count": 29,
   "id": "daa884be-97dd-4eb7-91f1-8b7047e3f5dd",
   "metadata": {},
   "outputs": [
    {
     "name": "stdin",
     "output_type": "stream",
     "text": [
      "Enter the number  5\n"
     ]
    },
    {
     "name": "stdout",
     "output_type": "stream",
     "text": [
      "Factorial is: 120\n"
     ]
    }
   ],
   "source": [
    "# find factorial of a number... take user input\n",
    "\n",
    "num = int(input('Enter the number '))\n",
    "fact = 1\n",
    "\n",
    "for n in range(1, num + 1):\n",
    "    fact = fact * n\n",
    "    \n",
    "print('Factorial is:', fact)"
   ]
  },
  {
   "cell_type": "markdown",
   "id": "d71c5fca-d753-4139-873b-637123a119ba",
   "metadata": {},
   "source": [
    "BREAK STATEMENT"
   ]
  },
  {
   "cell_type": "code",
   "execution_count": 30,
   "id": "96766d29-432c-4d91-8904-610ac8093701",
   "metadata": {},
   "outputs": [
    {
     "name": "stdout",
     "output_type": "stream",
     "text": [
      "1\n",
      "2\n",
      "3\n",
      "4\n"
     ]
    }
   ],
   "source": [
    "for n in range(1,10):\n",
    "    if n == 5:\n",
    "        break\n",
    "    print(n)"
   ]
  },
  {
   "cell_type": "code",
   "execution_count": 31,
   "id": "498f27f3-98c1-44a0-ba22-a9f1f1e25cdf",
   "metadata": {},
   "outputs": [
    {
     "name": "stdout",
     "output_type": "stream",
     "text": [
      "0\n",
      "1\n",
      "2\n",
      "3\n",
      "4\n",
      "5\n"
     ]
    }
   ],
   "source": [
    "count = 0\n",
    "while count < 10:\n",
    "    print(count)\n",
    "    if count == 5:\n",
    "        break\n",
    "    count += 1"
   ]
  },
  {
   "cell_type": "markdown",
   "id": "121bc886-d5ed-4c8a-ba34-3154412a633c",
   "metadata": {},
   "source": [
    "continue"
   ]
  },
  {
   "cell_type": "code",
   "execution_count": 32,
   "id": "276406c6-1dfb-48e7-982c-8c535f8b51e2",
   "metadata": {},
   "outputs": [
    {
     "name": "stdout",
     "output_type": "stream",
     "text": [
      "1\n",
      "2\n",
      "3\n",
      "4\n",
      "6\n",
      "7\n",
      "8\n",
      "9\n"
     ]
    }
   ],
   "source": [
    "for n in range(1,10):\n",
    "    if n == 5:\n",
    "        continue\n",
    "    print(n)"
   ]
  },
  {
   "cell_type": "code",
   "execution_count": 33,
   "id": "54d8e622-cc23-4de8-a9c6-a8ee138daacf",
   "metadata": {},
   "outputs": [
    {
     "name": "stdout",
     "output_type": "stream",
     "text": [
      "1\n",
      "3\n",
      "5\n",
      "7\n",
      "9\n",
      "11\n"
     ]
    }
   ],
   "source": [
    "# print odd numbers from 1 to 12 using continue statement\n",
    "\n",
    "for i in range(1,13):\n",
    "    if i % 2 == 0:\n",
    "        continue\n",
    "    print(i)"
   ]
  },
  {
   "cell_type": "markdown",
   "id": "0cafaecd-f6ca-4dc4-83cf-f8886ab26799",
   "metadata": {},
   "source": [
    "pass"
   ]
  },
  {
   "cell_type": "code",
   "execution_count": 34,
   "id": "5a689d1f-48f6-4478-93bc-ba595fa30c52",
   "metadata": {},
   "outputs": [],
   "source": [
    "num = 5\n",
    "\n",
    "if num > 1:\n",
    "    pass"
   ]
  },
  {
   "cell_type": "code",
   "execution_count": 35,
   "id": "850da5f0-6d3a-40db-a647-7cbd90891ad7",
   "metadata": {},
   "outputs": [],
   "source": [
    "'''\n",
    "*\n",
    "**\n",
    "***\n",
    "''';"
   ]
  },
  {
   "cell_type": "code",
   "execution_count": 36,
   "id": "7d39bede-14fa-41fa-87d2-85615d8906cb",
   "metadata": {},
   "outputs": [
    {
     "name": "stdin",
     "output_type": "stream",
     "text": [
      "Enter the number of rows  5\n"
     ]
    },
    {
     "name": "stdout",
     "output_type": "stream",
     "text": [
      "* \n",
      "* * \n",
      "* * * \n",
      "* * * * \n",
      "* * * * * \n"
     ]
    }
   ],
   "source": [
    "row = int(input('Enter the number of rows '))\n",
    "\n",
    "for i in range(1, row + 1):\n",
    "    for j in range(i):\n",
    "        print('*', end = ' ')\n",
    "    print()"
   ]
  },
  {
   "cell_type": "code",
   "execution_count": null,
   "id": "e5b15b40-5b10-4774-b13d-aad16cad9e89",
   "metadata": {},
   "outputs": [],
   "source": []
  }
 ],
 "metadata": {
  "kernelspec": {
   "display_name": "Python 3 (ipykernel)",
   "language": "python",
   "name": "python3"
  },
  "language_info": {
   "codemirror_mode": {
    "name": "ipython",
    "version": 3
   },
   "file_extension": ".py",
   "mimetype": "text/x-python",
   "name": "python",
   "nbconvert_exporter": "python",
   "pygments_lexer": "ipython3",
   "version": "3.11.7"
  }
 },
 "nbformat": 4,
 "nbformat_minor": 5
}
