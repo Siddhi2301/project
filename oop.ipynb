{
 "cells": [
  {
   "cell_type": "code",
   "execution_count": 1,
   "id": "76b969f5-f7cf-49cc-8bb6-52b02adeef29",
   "metadata": {},
   "outputs": [],
   "source": [
    "class Employee():\n",
    "    pass"
   ]
  },
  {
   "cell_type": "code",
   "execution_count": 3,
   "id": "a55e2fa5-f356-4bf0-8e91-4896420c84cf",
   "metadata": {},
   "outputs": [],
   "source": [
    "emp1 = Employee()\n",
    "emp2 = Employee()"
   ]
  },
  {
   "cell_type": "code",
   "execution_count": 5,
   "id": "bad6fd59-3d3b-4624-8a58-da893e7d050d",
   "metadata": {},
   "outputs": [
    {
     "name": "stdout",
     "output_type": "stream",
     "text": [
      "<__main__.Employee object at 0x0000023EB0D204D0>\n",
      "<__main__.Employee object at 0x0000023EB0D1EC90>\n"
     ]
    }
   ],
   "source": [
    "print(emp1)\n",
    "print(emp2)"
   ]
  },
  {
   "cell_type": "code",
   "execution_count": 7,
   "id": "8de25bef-ba96-4d32-8047-ed775aea6e43",
   "metadata": {},
   "outputs": [],
   "source": [
    "#instance variable"
   ]
  },
  {
   "cell_type": "code",
   "execution_count": 9,
   "id": "c2d29feb-762d-4267-a8ed-4d7518fa7905",
   "metadata": {},
   "outputs": [],
   "source": [
    "emp1.first = 'Neeraj'\n",
    "emp1.last = 'Deshmukh'\n",
    "emp1.salary = 51000\n",
    "\n",
    "emp2.first = 'Siddhi'\n",
    "emp2.last = 'Salave'\n",
    "emp2.salary = 55000"
   ]
  },
  {
   "cell_type": "code",
   "execution_count": 11,
   "id": "fa3ffda1-8f28-454e-b9f9-05dce30a027b",
   "metadata": {},
   "outputs": [
    {
     "name": "stdout",
     "output_type": "stream",
     "text": [
      "Neeraj\n"
     ]
    }
   ],
   "source": [
    "print(emp1.first)"
   ]
  },
  {
   "cell_type": "code",
   "execution_count": 13,
   "id": "ce13d0a8-45ba-45ae-8370-e5e462252984",
   "metadata": {},
   "outputs": [
    {
     "name": "stdout",
     "output_type": "stream",
     "text": [
      "55000\n"
     ]
    }
   ],
   "source": [
    "print(emp2.salary)"
   ]
  },
  {
   "cell_type": "code",
   "execution_count": 15,
   "id": "6e6ad845-5d32-44c6-b526-5afad069d01b",
   "metadata": {},
   "outputs": [],
   "source": [
    "class Employee1():\n",
    "    def __init__(self, first,last,salary):\n",
    "        self.first = first\n",
    "        self.last = last\n",
    "        self.salary = salary\n",
    "    def show(self):\n",
    "        print(self.first + ' ' + 'ok')"
   ]
  },
  {
   "cell_type": "code",
   "execution_count": 21,
   "id": "45c637fc-e0b0-4668-a008-b57494d099d7",
   "metadata": {},
   "outputs": [],
   "source": [
    "emp1 = Employee1('Tanmay','Salave',50000)\n"
   ]
  },
  {
   "cell_type": "code",
   "execution_count": 23,
   "id": "ace3f0dc-cdd7-4251-82d3-1f3284118593",
   "metadata": {},
   "outputs": [
    {
     "name": "stdout",
     "output_type": "stream",
     "text": [
      "Tanmay\n"
     ]
    }
   ],
   "source": [
    "print(emp1.first)"
   ]
  },
  {
   "cell_type": "code",
   "execution_count": 27,
   "id": "9a34828a-b453-4d11-8db1-d875d430993e",
   "metadata": {},
   "outputs": [],
   "source": [
    "emp2 = Employee1('Kalpana','Salave',100000)"
   ]
  },
  {
   "cell_type": "code",
   "execution_count": 29,
   "id": "b309b301-5f1e-49ad-bb9c-01b2b59a4aef",
   "metadata": {},
   "outputs": [
    {
     "name": "stdout",
     "output_type": "stream",
     "text": [
      "100000\n"
     ]
    }
   ],
   "source": [
    "print(emp2.salary)"
   ]
  },
  {
   "cell_type": "code",
   "execution_count": 31,
   "id": "f9d87619-931f-4242-961a-71a2cd73b850",
   "metadata": {},
   "outputs": [
    {
     "name": "stdout",
     "output_type": "stream",
     "text": [
      "Tanmay ok\n"
     ]
    }
   ],
   "source": [
    "emp1.show()"
   ]
  },
  {
   "cell_type": "code",
   "execution_count": 33,
   "id": "135fd1b9-7735-4704-a13c-8754077ea3ba",
   "metadata": {},
   "outputs": [
    {
     "name": "stdout",
     "output_type": "stream",
     "text": [
      "Kalpana ok\n"
     ]
    }
   ],
   "source": [
    "emp2.show()"
   ]
  },
  {
   "cell_type": "markdown",
   "id": "60a7f01f-a6af-497d-83f4-c84265f44293",
   "metadata": {},
   "source": [
    "Encapsulation"
   ]
  },
  {
   "cell_type": "code",
   "execution_count": 37,
   "id": "ff11dc80-a86c-49c6-bf0b-6c24bfb1c1fb",
   "metadata": {},
   "outputs": [],
   "source": [
    "class Employe():\n",
    "    def __init__(self, first, last , salary):\n",
    "        self.first = first\n",
    "        self.last = last\n",
    "        self.__salary = salary         #private variable\n",
    "\n",
    "    def show(self):\n",
    "        print(self.first + ' ' + 'ok')\n",
    "\n",
    "    def show(self):\n",
    "        print(self.salary)"
   ]
  },
  {
   "cell_type": "code",
   "execution_count": 39,
   "id": "8ee118d9-abef-41de-ae1e-acc8943fcd57",
   "metadata": {},
   "outputs": [
    {
     "name": "stdout",
     "output_type": "stream",
     "text": [
      "100000\n"
     ]
    }
   ],
   "source": [
    "print(emp2.salary)"
   ]
  },
  {
   "cell_type": "code",
   "execution_count": 41,
   "id": "7071a871-79ab-4e3b-bd4d-79ffebcd3ca8",
   "metadata": {},
   "outputs": [],
   "source": [
    "emp2 = Employee1('Kalpana','Salave',100000)\n"
   ]
  },
  {
   "cell_type": "code",
   "execution_count": 43,
   "id": "3909a915-1698-4c37-a2ad-01097d1fcde6",
   "metadata": {},
   "outputs": [
    {
     "name": "stdout",
     "output_type": "stream",
     "text": [
      "100000\n"
     ]
    }
   ],
   "source": [
    "print(emp2.salary)"
   ]
  },
  {
   "cell_type": "markdown",
   "id": "33565239-2196-494f-bc9e-cbf83a5bf17b",
   "metadata": {},
   "source": [
    "Inheritance"
   ]
  },
  {
   "cell_type": "code",
   "execution_count": 46,
   "id": "62030729-da4a-4edf-bd87-b73758d8a253",
   "metadata": {},
   "outputs": [],
   "source": [
    "class Emp2(Employee1):\n",
    "    pass"
   ]
  },
  {
   "cell_type": "code",
   "execution_count": 48,
   "id": "2f95810d-e98e-4f90-8a34-8afe59153345",
   "metadata": {},
   "outputs": [],
   "source": [
    "emp3 = Emp2('Sanjay','Salave',50000)"
   ]
  },
  {
   "cell_type": "code",
   "execution_count": 50,
   "id": "bf963591-e3dd-4427-944a-7da7d98be0d8",
   "metadata": {},
   "outputs": [
    {
     "name": "stdout",
     "output_type": "stream",
     "text": [
      "Sanjay ok\n"
     ]
    }
   ],
   "source": [
    "emp3.show()"
   ]
  },
  {
   "cell_type": "code",
   "execution_count": 54,
   "id": "e5e2552a-c8b9-4dd2-ba7c-78383962dd38",
   "metadata": {},
   "outputs": [],
   "source": [
    "'''\n",
    "Create a class called person\n",
    "attributes - name, age, city ....\n",
    "create a method which will show all the info of a person\n",
    "''';"
   ]
  },
  {
   "cell_type": "code",
   "execution_count": 56,
   "id": "41d2f267-3024-4c73-a6fc-3dd81e4e425f",
   "metadata": {},
   "outputs": [],
   "source": [
    "class Person():\n",
    "    def __init__(self, name, age = 18):\n",
    "        self.name = name\n",
    "        self.age = age\n",
    "    def info(self):\n",
    "        print('name', self.name)\n",
    "        print('age', self.age)"
   ]
  },
  {
   "cell_type": "code",
   "execution_count": 58,
   "id": "108fa5bb-322a-4edf-954d-f5dcbcdea5b0",
   "metadata": {},
   "outputs": [],
   "source": [
    "per1 = Person('Kiran', 21)"
   ]
  },
  {
   "cell_type": "code",
   "execution_count": 60,
   "id": "d2b83a70-aead-4ced-a5fc-ef2bafb6b793",
   "metadata": {},
   "outputs": [],
   "source": [
    "per2 = Person('Siddhi')"
   ]
  },
  {
   "cell_type": "code",
   "execution_count": 62,
   "id": "9f6f8ad4-f29f-4a51-88c5-78f766d88643",
   "metadata": {},
   "outputs": [
    {
     "name": "stdout",
     "output_type": "stream",
     "text": [
      "name Kiran\n",
      "age 21\n",
      "name Siddhi\n",
      "age 18\n"
     ]
    }
   ],
   "source": [
    "per1.info()\n",
    "per2.info()"
   ]
  },
  {
   "cell_type": "code",
   "execution_count": null,
   "id": "511d891c-5bdb-4fb0-b790-be0d17b0a99f",
   "metadata": {},
   "outputs": [],
   "source": []
  }
 ],
 "metadata": {
  "kernelspec": {
   "display_name": "Python 3 (ipykernel)",
   "language": "python",
   "name": "python3"
  },
  "language_info": {
   "codemirror_mode": {
    "name": "ipython",
    "version": 3
   },
   "file_extension": ".py",
   "mimetype": "text/x-python",
   "name": "python",
   "nbconvert_exporter": "python",
   "pygments_lexer": "ipython3",
   "version": "3.11.7"
  }
 },
 "nbformat": 4,
 "nbformat_minor": 5
}
