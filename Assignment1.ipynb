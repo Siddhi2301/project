{
 "cells": [
  {
   "cell_type": "code",
   "execution_count": 6,
   "id": "e41f5b32-6c65-4535-8f6c-7fd50620c75b",
   "metadata": {},
   "outputs": [
    {
     "name": "stdin",
     "output_type": "stream",
     "text": [
      "Enter the days: 366\n"
     ]
    },
    {
     "name": "stdout",
     "output_type": "stream",
     "text": [
      "1 : 0 : 1\n"
     ]
    }
   ],
   "source": [
    "'''\n",
    "write a  program to convert specified days into years, weeks and days.\n",
    "Take user input\n",
    "Note:  \n",
    "'''\n",
    "\n",
    "num = int(input(\"Enter the days:\"))\n",
    "\n",
    "year = num // 365\n",
    "rem_day = num % 365\n",
    "\n",
    "week = rem_day // 52\n",
    "\n",
    "days = rem_day % 52\n",
    "\n",
    "print(year,':',week,':',days)"
   ]
  },
  {
   "cell_type": "code",
   "execution_count": 3,
   "id": "4ecdf8c8-dee0-4b23-81be-b6f46abb014a",
   "metadata": {},
   "outputs": [
    {
     "name": "stdout",
     "output_type": "stream",
     "text": [
      "1 \n",
      "2 2 \n",
      "3 3 3 \n",
      "4 4 4 4 \n",
      "5 5 5 5 5 \n"
     ]
    }
   ],
   "source": [
    "'''\n",
    "Write alp to print the given number pattern\n",
    "1\n",
    "2 2\n",
    "3 3 3\n",
    "4 4 4 4\n",
    "5 5 5 5 5\n",
    "'''\n",
    "\n",
    "row = 5\n",
    "\n",
    "for i in range(1, row + 1):\n",
    "    for j in range(i):\n",
    "        print(i, end = \" \")\n",
    "    print()"
   ]
  },
  {
   "cell_type": "code",
   "execution_count": 5,
   "id": "8ee28f65-1bc0-432b-af96-d117d5a659d5",
   "metadata": {},
   "outputs": [
    {
     "name": "stdin",
     "output_type": "stream",
     "text": [
      "Enter your number:  123\n"
     ]
    },
    {
     "name": "stdout",
     "output_type": "stream",
     "text": [
      "Multiplication of following digit of number is:  6\n"
     ]
    }
   ],
   "source": [
    "'''\n",
    "Write alp to calculate product of digits of a number.\n",
    "Read value of n from user.\n",
    "'''\n",
    "\n",
    "num = int(input(\"Enter your number: \"))\n",
    "\n",
    "mul = 1\n",
    "\n",
    "while num > 0:\n",
    "    rem = num % 10\n",
    "    mul = mul * rem\n",
    "    num = num // 10\n",
    "\n",
    "print(\"Multiplication of following digit of number is: \",mul)"
   ]
  },
  {
   "cell_type": "code",
   "execution_count": 101,
   "id": "cacc3876-00b7-42ec-bc0b-68f8a17d11d0",
   "metadata": {},
   "outputs": [
    {
     "name": "stdout",
     "output_type": "stream",
     "text": [
      "['Hello', 'World']\n",
      "['HELLO', 'WORLD']\n",
      "124\n",
      "['World', 23.45, 'Hello', 12, 67, 45]\n",
      "[45, 67, 12, 23.45, 'World']\n",
      "[45, 67, 12, 23.45, 'World', 36]\n",
      "6\n",
      "[45, 67, 12, 23.45, 'World', 36, 34, 'Pune']\n",
      "[45, 67, 12, 23.45, 'World', 36, 34]\n"
     ]
    }
   ],
   "source": [
    "'''\n",
    "create a list of elements like x = [45, 67, 12, 'Hello', 23.45, 'World'] and perform some operations\n",
    "'''\n",
    "\n",
    "list = [45, 67, 12, 'Hello', 23.45, 'World']\n",
    "l1 = []\n",
    "#only string value\n",
    "for i in list:\n",
    "    if type(i) == str:\n",
    "        l1.append(i)\n",
    "print(l1)\n",
    "\n",
    "#new list with strings in upper case\n",
    "l2 = []\n",
    "for i in list:\n",
    "    if type(i) == str:\n",
    "        l2.append(i.upper())\n",
    "print(l2)\n",
    "\n",
    "#find the addition of integer values\n",
    "add = 0\n",
    "for i in list:\n",
    "    if type(i) == int:\n",
    "        add = add + i\n",
    "print(add)\n",
    "\n",
    "#check that the value 56 is present in it or not\n",
    "56 in list\n",
    "\n",
    "#print the list in reverse order\n",
    "print(list[::-1])\n",
    "\n",
    "#delete the string 'hello' from it\n",
    "del list[3]\n",
    "print(list)\n",
    "\n",
    "#insert a new value of 36 at 5th position in list\n",
    "list.insert(5,36)\n",
    "print(list)\n",
    "\n",
    "#count total number of elements in list row\n",
    "print(len(list))\n",
    "\n",
    "\n",
    "#extract the values from 2nd index to 5th index\n",
    "list[2:5]\n",
    "\n",
    "#append [34, 'Pune'] to this list.\n",
    "list.append(34)\n",
    "list.append('Pune')\n",
    "print(list)\n",
    "\n",
    "#delete the last element from list\n",
    "del list[-1]\n",
    "print(list)\n"
   ]
  },
  {
   "cell_type": "code",
   "execution_count": 127,
   "id": "9494559e-b3a2-4165-95a7-aaf832b227c4",
   "metadata": {},
   "outputs": [
    {
     "name": "stdout",
     "output_type": "stream",
     "text": [
      "[21.09, 23.9, 54.78, 62.85, 64.89]\n",
      "False\n",
      "(23.9, 21.09, 64.89, 54.78, 62.85)\n"
     ]
    }
   ],
   "source": [
    "t = (23.90, 21.09, 64.89, 54.78, 62.85)\n",
    "\n",
    "#print the data in sorted manner\n",
    "print(sorted(t))\n",
    "\n",
    "#check to see that the element 50 is present in it.\n",
    "print(50 in t)\n",
    "\n",
    "#convert this tuple in set\n",
    "t\n",
    "m =(t)\n",
    "print(m)\n",
    "\n"
   ]
  },
  {
   "cell_type": "code",
   "execution_count": 153,
   "id": "933e72e6-9f7c-45ee-a285-58723313e2d5",
   "metadata": {},
   "outputs": [
    {
     "name": "stdout",
     "output_type": "stream",
     "text": [
      "key\n",
      "{'a': 'apple', 'b': 'ball', 'c': 'car', 'd': 'doll', 'k': 'key', 'z': 'zebra'}\n",
      "{'a': 'apple', 'b': 'ball', 'c': 'car', 'd': 'dog', 'k': 'key', 'z': 'zebra'}\n",
      "6\n"
     ]
    }
   ],
   "source": [
    "'''\n",
    "create a dictionary and perform operations\n",
    "'''\n",
    "\n",
    "dic = {'a':'apple', 'b':'ball', 'c':'car', 'd':'doll', 'k':'key'}\n",
    "\n",
    "#access the data at key 'k'\n",
    "print(dic['k'])\n",
    "\n",
    "#add a new value 'z':'zebra'\n",
    "dic['z'] = 'zebra' \n",
    "print(dic)\n",
    "\n",
    "#replace the contents of 'd' as 'dog'\n",
    "dic['d'] = 'dog'\n",
    "print(dic)\n",
    "\n",
    "#print all the values from this dictionary\n",
    "dic.values()\n",
    "\n",
    "#find the length of this dictionary\n",
    "print(len(dic))\n"
   ]
  },
  {
   "cell_type": "code",
   "execution_count": 173,
   "id": "a3f84995-d932-454c-8062-3383a7088148",
   "metadata": {},
   "outputs": [
    {
     "name": "stdout",
     "output_type": "stream",
     "text": [
      "[67, 64, 52, 45, 23, 12]\n",
      "64\n"
     ]
    }
   ],
   "source": [
    "'''\n",
    "write alp to find the second largest element in a list\n",
    "'''\n",
    "l = [45, 67, 12, 52, 23, 64]\n",
    "l1 = sorted(l, reverse = True)\n",
    "print(l1)\n",
    "\n",
    "print(l1[1])"
   ]
  },
  {
   "cell_type": "code",
   "execution_count": 185,
   "id": "d3cb828a-6bfa-43e2-b399-ab649de43587",
   "metadata": {},
   "outputs": [
    {
     "name": "stdout",
     "output_type": "stream",
     "text": [
      "['silver', 'gold', 'platinum', 'lead', 'iron', 'aluminium']\n"
     ]
    }
   ],
   "source": [
    "'''\n",
    "This is a list of some metallic elements.\n",
    " metals = [ 'silver','gold', ... ]\n",
    " Make a new list that is almost identical to the metals list: the new\n",
    " contains the same items, in the same order, except that it does NOT\n",
    " contain the item 'copper'\n",
    "'''\n",
    "metals = [\"silver\",\"gold\",\"platinum\",\"copper\",\"lead\",\"iron\",\"aluminium\"]\n",
    "metals1 = []\n",
    "for n in metals:\n",
    "    if n != \"copper\":\n",
    "        metals1.append(n)\n",
    "\n",
    "print(metals1)"
   ]
  },
  {
   "cell_type": "code",
   "execution_count": null,
   "id": "a1feac4b-4f10-4f3b-9612-35708ea5411e",
   "metadata": {},
   "outputs": [],
   "source": []
  }
 ],
 "metadata": {
  "kernelspec": {
   "display_name": "Python 3 (ipykernel)",
   "language": "python",
   "name": "python3"
  },
  "language_info": {
   "codemirror_mode": {
    "name": "ipython",
    "version": 3
   },
   "file_extension": ".py",
   "mimetype": "text/x-python",
   "name": "python",
   "nbconvert_exporter": "python",
   "pygments_lexer": "ipython3",
   "version": "3.11.7"
  }
 },
 "nbformat": 4,
 "nbformat_minor": 5
}
