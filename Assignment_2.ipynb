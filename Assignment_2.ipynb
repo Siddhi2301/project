{
 "cells": [
  {
   "cell_type": "markdown",
   "id": "3a072648-b4fd-4546-8af7-d471d2ac30d3",
   "metadata": {},
   "source": [
    "## Question - 1"
   ]
  },
  {
   "cell_type": "code",
   "execution_count": 7,
   "id": "b16fc808-fdaf-4bf0-9850-7292c27bc4a1",
   "metadata": {},
   "outputs": [],
   "source": [
    "'''\n",
    "Create a package named ‘cricket’ which will contain modules named\n",
    "batsman and bowler. Create following functions in respective modules.\n",
    "Import the package and call all these functions in your program\n",
    "batsman: findaverage(runs,matches), strikerate(runs,balls)\n",
    "bowler: findavg(runs,wickets), economyrate(overs, runs)\n",
    "''';"
   ]
  },
  {
   "cell_type": "code",
   "execution_count": 18,
   "id": "a1789aef-ff7b-407c-b243-1aee4e5e175f",
   "metadata": {},
   "outputs": [],
   "source": [
    "class batsman:\n",
    "    def findaverage(run, out):\n",
    "        if out == 0:\n",
    "            return 0\n",
    "        return run / out\n",
    "\n",
    "    def strikerate(run, ball):\n",
    "        if ball == 0:\n",
    "            return 0\n",
    "        return (run / ball) * 100\n",
    "class bowler:\n",
    "    def findavg(run, wicket):\n",
    "      if wicket == 0:\n",
    "          return 0\n",
    "      return run / wicket\n",
    "\n",
    "    def economyrate(over, run):\n",
    "      if over == 0:\n",
    "         return 0\n",
    "      return run / over"
   ]
  },
  {
   "cell_type": "markdown",
   "id": "4786b50c-732e-4936-981e-37fbecb12d58",
   "metadata": {},
   "source": [
    "## Question no  - 2"
   ]
  },
  {
   "cell_type": "code",
   "execution_count": 45,
   "id": "deead38a-910f-4400-ac66-7809ad455960",
   "metadata": {},
   "outputs": [
    {
     "name": "stdout",
     "output_type": "stream",
     "text": [
      "2 is prime number\n"
     ]
    }
   ],
   "source": [
    "'''Write a Python function to find whether the number if prime or not.\n",
    "def isPrime(num)'''\n",
    "\n",
    "def isPrime(num):\n",
    "    a = False\n",
    "    if num > 1:\n",
    "        for i in range(2,num):\n",
    "          if num % i == 0:\n",
    "            a = True\n",
    "    \n",
    "    if a == True:\n",
    "        print(num,\"is not a prime number\")\n",
    "    else:\n",
    "        print(num,\"is prime number\")\n",
    "    \n",
    "\n",
    "isPrime(num)"
   ]
  },
  {
   "cell_type": "code",
   "execution_count": 47,
   "id": "6f97dfaf-1612-4450-989b-3a3c9af126f4",
   "metadata": {},
   "outputs": [
    {
     "name": "stdout",
     "output_type": "stream",
     "text": [
      "12 is not a prime number\n"
     ]
    }
   ],
   "source": [
    "isPrime(12)"
   ]
  },
  {
   "cell_type": "code",
   "execution_count": 49,
   "id": "bcca3a8f-bc1f-41de-80c9-d89af3cac4d1",
   "metadata": {},
   "outputs": [
    {
     "name": "stdout",
     "output_type": "stream",
     "text": [
      "11 is prime number\n"
     ]
    }
   ],
   "source": [
    "isPrime(11)"
   ]
  },
  {
   "cell_type": "markdown",
   "id": "dc248d8f-7604-4fdc-a0f2-6bcb55b22e0b",
   "metadata": {},
   "source": [
    "## Question no - 3"
   ]
  },
  {
   "cell_type": "code",
   "execution_count": 76,
   "id": "24c78769-e57a-4270-9e97-ec3b2e801ad9",
   "metadata": {},
   "outputs": [
    {
     "name": "stdin",
     "output_type": "stream",
     "text": [
      "Enter the string: kk\n"
     ]
    },
    {
     "name": "stdout",
     "output_type": "stream",
     "text": [
      "The string is palindrome\n"
     ]
    }
   ],
   "source": [
    "'''\n",
    " Write a function is_palindrome(string) that takes a string as input and returns\n",
    "True if the string reads the same backward as forward (e.g., \"racecar\" is a palindrome).\n",
    "'''\n",
    "\n",
    "string = str(input(\"Enter the string:\"))\n",
    "\n",
    "def is_palindrome(string):\n",
    "    reverse = string[::-1]\n",
    "    if reverse == string:\n",
    "        print(\"The string is palindrome\")\n",
    "    else:\n",
    "        print(\"String is not palindrome\")\n",
    "\n",
    "is_palindrome(string)"
   ]
  },
  {
   "cell_type": "markdown",
   "id": "473784c5-340d-492a-921d-2c398ca53b3a",
   "metadata": {},
   "source": [
    "## Question no - 4"
   ]
  },
  {
   "cell_type": "code",
   "execution_count": 107,
   "id": "e93b7efc-3900-4116-9178-60135c49b0f6",
   "metadata": {},
   "outputs": [
    {
     "name": "stdin",
     "output_type": "stream",
     "text": [
      "Enter your elements: 1 2 3 4 5\n"
     ]
    },
    {
     "name": "stdout",
     "output_type": "stream",
     "text": [
      "Reversed list: [5, 4, 3, 2, 1]\n"
     ]
    }
   ],
   "source": [
    "'''Write a function reverse_list(data) that takes a list as input and returns a new list\n",
    "with the elements in reverse order (e.g., reverse_list([1, 2, 3]) returns [3, 2, 1]).'''\n",
    "\n",
    "def reverse_list(data):\n",
    "    return data[::-1]\n",
    "\n",
    "l1 = input(\"Enter your elements:\")\n",
    "l1 = l1.split()\n",
    "l1 = [int(x) for x in l1]\n",
    "reversed_list = reverse_list(l1)\n",
    "print(\"Reversed list:\",reversed_list)\n"
   ]
  },
  {
   "cell_type": "markdown",
   "id": "834acd0b-7586-45e6-8d96-d28f9d1e1a23",
   "metadata": {},
   "source": [
    "## Question no - 5\n"
   ]
  },
  {
   "cell_type": "code",
   "execution_count": 116,
   "id": "e9b9e905-2711-4a44-878a-539f872c30f6",
   "metadata": {},
   "outputs": [
    {
     "name": "stdin",
     "output_type": "stream",
     "text": [
      "Enter your content hello buddy\n"
     ]
    },
    {
     "name": "stdout",
     "output_type": "stream",
     "text": [
      "Added successfully!!\n"
     ]
    }
   ],
   "source": [
    "'''\n",
    "Write a function write_file(filename, content) that takes a filename and\n",
    "content as input and writes the content to the specified file.\n",
    "'''\n",
    "\n",
    "content = input(\"Enter your content\")\n",
    "def write_file(filename: str,content: str):\n",
    "    with open(filename, 'w') as file:\n",
    "        file.write(content)\n",
    "        print(\"Added successfully!!\")\n",
    "\n",
    "write_file(\"file.txt\",content)"
   ]
  },
  {
   "cell_type": "markdown",
   "id": "c61ffe1b-246e-44dd-8b7d-9b45b0528b2d",
   "metadata": {},
   "source": [
    "## Question no - 6"
   ]
  },
  {
   "cell_type": "code",
   "execution_count": null,
   "id": "92b84368-b363-4c27-a22a-6a711786ddee",
   "metadata": {},
   "outputs": [],
   "source": [
    "'''\n",
    "Write a function copy_file(source_filename, destination_filename) that\n",
    "takes the source and destination filenames as input and copies the content of the source\n",
    "file to the destination file. Handle cases where the source file doesn't exist.\n",
    "'''\n",
    "\n",
    "def copy_file(source_filename, destination_filename):\n",
    "    try:\n",
    "        with open(source_filename,\"r\") as d1:\n",
    "            with open(destination_filename,\"w\") as d2:\n",
    "                for n in d1:\n",
    "                    d2.write(n)\n",
    "    except FileNotFoundError:\n",
    "        print(\"The source file doesn't exist.\")\n",
    "    except Exception as e:\n",
    "        print(\"Your error is \",e)\n",
    "    else:\n",
    "        print(\"your file is copied sucessfully\")\n",
    "source_filename = input(\"enter name of source file \")\n",
    "destination_filename = input(\"enter name of destination file\")\n",
    "copy_file(source_filename,destination_filename)"
   ]
  },
  {
   "cell_type": "markdown",
   "id": "f76461e6-b09e-4499-b4e7-a2fa3721d5ca",
   "metadata": {},
   "source": [
    "## Question no - 7"
   ]
  },
  {
   "cell_type": "code",
   "execution_count": 25,
   "id": "24e3d7cf-1710-4dce-8e09-bab2f501d102",
   "metadata": {},
   "outputs": [
    {
     "name": "stdin",
     "output_type": "stream",
     "text": [
      "Enter your array1 = 2 4 6 8\n",
      "Enter your array2 = 1 3 5 7\n"
     ]
    },
    {
     "data": {
      "text/plain": [
       "100.0"
      ]
     },
     "execution_count": 25,
     "metadata": {},
     "output_type": "execute_result"
    }
   ],
   "source": [
    "import numpy as np\n",
    "\n",
    "def dot_product(array1, array2):\n",
    "    np_array1 = np.array(array1, dtype=float)  \n",
    "    np_array2 = np.array(array2, dtype=float)  \n",
    "    result = np.dot(np_array1, np_array2)  \n",
    "    return result\n",
    "\n",
    "array1 = input(\"Enter your array1 =\").split()\n",
    "array2 = input(\"Enter your array2 =\").split()\n",
    "\n",
    "dot_product(array1, array2)"
   ]
  },
  {
   "cell_type": "markdown",
   "id": "b802c855-862d-484e-ac8a-3bd6ed2a0642",
   "metadata": {},
   "source": [
    "## Question no - 8"
   ]
  },
  {
   "cell_type": "code",
   "execution_count": 96,
   "id": "d599993b-932c-4937-a6c8-f2196f07217b",
   "metadata": {},
   "outputs": [],
   "source": [
    "import tkinter as tk\n",
    "from tkinter import messagebox\n",
    "\n",
    "radio = tk.Tk()\n",
    "radio.title(\"RADIO BUTTON\")\n",
    "radio.geometry(\"500x500\")\n",
    "\n",
    "def colour():\n",
    "    choosed_color = color_var.get()\n",
    "    if choosed_color == \"Red\":\n",
    "        radio.configure(bg = \"red\")\n",
    "    elif choosed_color == \"Green\":\n",
    "        radio.configure(bg = \"green\")\n",
    "    elif choosed_color == \"Blue\":\n",
    "        radio.configure(bg = \"blue\")\n",
    "    elif choosed_color == \"Yellow\":\n",
    "        radio.configure(bg = \"yellow\")\n",
    "        \n",
    "color_var = tk.StringVar(value=\"white\")\n",
    "\n",
    "r1 = tk.Radiobutton(radio,text = \"Red\",command = colour,value = \"Red\",variable = color_var,bg = \"red\",width = 10).grid(column = 5, row = 0)\n",
    "r2 = tk.Radiobutton(radio,text = \"Green\",command = colour,value = \"Green\",variable = color_var,bg = \"green\",width = 10).grid(column = 5, row = 1)\n",
    "r3 = tk.Radiobutton(radio,text = \"Blue\",command = colour,value = \"Blue\",variable = color_var,bg = \"blue\",width = 10).grid(column = 5, row = 2)\n",
    "r4 = tk.Radiobutton(radio,text = \"Yellow\",command = colour,value = \"Yellow\",variable = color_var,bg = \"yellow\",width = 10).grid(column = 5, row = 3)\n",
    "tk.mainloop()"
   ]
  },
  {
   "cell_type": "markdown",
   "id": "6913078c-6b5e-451c-94ce-a3ac1cb6c1ec",
   "metadata": {},
   "source": [
    "## Question no - 9"
   ]
  },
  {
   "cell_type": "code",
   "execution_count": 125,
   "id": "3a5ceaef-644e-491b-ab3e-341e56cf74ee",
   "metadata": {},
   "outputs": [],
   "source": [
    "'''\n",
    "Design a currency converter GUI. Allow users to enter an amount and select the\n",
    "currencies they want to convert between (e.g., USD, EUR). Display the converted\n",
    "amount in the selected currency\n",
    "'''\n",
    "\n",
    "import tkinter as tk\n",
    "from tkinter import messagebox\n",
    "\n",
    "low = tk.Tk()\n",
    "low.title(\"Currency converter\")\n",
    "low.geometry(\"700x700\")\n",
    "inr = tk.IntVar()\n",
    "\n",
    "\n",
    "def usd():\n",
    "    a = inr.get()\n",
    "    u = a/83\n",
    "    messagebox.showinfo(\"converter\",\" USD = %i\" %u)\n",
    "\n",
    "def eur():\n",
    "    a = inr.get()\n",
    "    e = a/89\n",
    "    messagebox.showinfo(\"converter\", \"EUR = %i\" %e)\n",
    "\n",
    "l = tk.Label(low, text = \"Enter your Amount \").place(x = 250, y = 150)\n",
    "e = tk.Entry(low, textvariable = inr, width = 30).place(x = 270,y = 190)\n",
    "b1 = tk.Button(low, text = \"USD\", width = 30, command = usd).place(x = 290, y = 220)\n",
    "b2 = tk.Button(low, text = \"EUR\", width = 30, command = eur).place(x = 290, y = 250)\n",
    "low.mainloop()"
   ]
  },
  {
   "cell_type": "markdown",
   "id": "2d952025-6004-4df7-8257-c3621d6d573b",
   "metadata": {},
   "source": [
    "## Question no - 10"
   ]
  },
  {
   "cell_type": "code",
   "execution_count": null,
   "id": "c178a977-5ea1-449d-8d21-b9562221380c",
   "metadata": {},
   "outputs": [],
   "source": []
  }
 ],
 "metadata": {
  "kernelspec": {
   "display_name": "Python 3 (ipykernel)",
   "language": "python",
   "name": "python3"
  },
  "language_info": {
   "codemirror_mode": {
    "name": "ipython",
    "version": 3
   },
   "file_extension": ".py",
   "mimetype": "text/x-python",
   "name": "python",
   "nbconvert_exporter": "python",
   "pygments_lexer": "ipython3",
   "version": "3.11.7"
  }
 },
 "nbformat": 4,
 "nbformat_minor": 5
}
